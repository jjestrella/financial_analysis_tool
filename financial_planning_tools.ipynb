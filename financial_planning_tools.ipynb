{
 "cells": [
  {
   "cell_type": "markdown",
   "metadata": {},
   "source": [
    "# Financial Planning with APIs and Simulations\n",
    "\n",
    "In this Challenge, you’ll create two financial analysis tools by using a single Jupyter notebook:\n",
    "\n",
    "Part 1: A financial planner for emergencies. The members will be able to use this tool to visualize their current savings. The members can then determine if they have enough reserves for an emergency fund.\n",
    "\n",
    "Part 2: A financial planner for retirement. This tool will forecast the performance of their retirement portfolio in 30 years. To do this, the tool will make an Alpaca API call via the Alpaca SDK to get historical price data for use in Monte Carlo simulations.\n",
    "\n",
    "You’ll use the information from the Monte Carlo simulation to answer questions about the portfolio in your Jupyter notebook.\n",
    "\n"
   ]
  },
  {
   "cell_type": "code",
   "execution_count": 1,
   "metadata": {},
   "outputs": [],
   "source": [
    "# Import the required libraries and dependencies\n",
    "import os\n",
    "import requests\n",
    "import json\n",
    "import pandas as pd\n",
    "from dotenv import load_dotenv\n",
    "import alpaca_trade_api as tradeapi\n",
    "from MCForecastTools import MCSimulation\n",
    "\n",
    "%matplotlib inline"
   ]
  },
  {
   "cell_type": "code",
   "execution_count": 2,
   "metadata": {},
   "outputs": [
    {
     "data": {
      "text/plain": [
       "True"
      ]
     },
     "execution_count": 2,
     "metadata": {},
     "output_type": "execute_result"
    }
   ],
   "source": [
    "# Load the environment variables from the .env file\n",
    "#by calling the load_dotenv function\n",
    "load_dotenv()"
   ]
  },
  {
   "cell_type": "markdown",
   "metadata": {},
   "source": [
    "## Part 1: Create a Financial Planner for Emergencies"
   ]
  },
  {
   "cell_type": "markdown",
   "metadata": {},
   "source": [
    "### Evaluate the Cryptocurrency Wallet by Using the Requests Library\n",
    "\n",
    "In this section, you’ll determine the current value of a member’s cryptocurrency wallet. You’ll collect the current prices for the Bitcoin and Ethereum cryptocurrencies by using the Python Requests library. For the prototype, you’ll assume that the member holds the 1.2 Bitcoins (BTC) and 5.3 Ethereum coins (ETH). To do all this, complete the following steps:\n",
    "\n",
    "1. Create a variable named `monthly_income`, and set its value to `12000`.\n",
    "\n",
    "2. Use the Requests library to get the current price (in US dollars) of Bitcoin (BTC) and Ethereum (ETH) by using the API endpoints that the starter code supplies.\n",
    "\n",
    "3. Navigate the JSON response object to access the current price of each coin, and store each in a variable.\n",
    "\n",
    "    > **Hint** Note the specific identifier for each cryptocurrency in the API JSON response. The Bitcoin identifier is `1`, and the Ethereum identifier is `1027`.\n",
    "\n",
    "4. Calculate the value, in US dollars, of the current amount of each cryptocurrency and of the entire cryptocurrency wallet.\n",
    "\n"
   ]
  },
  {
   "cell_type": "code",
   "execution_count": 3,
   "metadata": {},
   "outputs": [],
   "source": [
    "# The current number of coins for each cryptocurrency asset held in the portfolio.\n",
    "btc_coins = 1.2\n",
    "eth_coins = 5.3"
   ]
  },
  {
   "cell_type": "markdown",
   "metadata": {},
   "source": [
    "#### Step 1: Create a variable named `monthly_income`, and set its value to `12000`."
   ]
  },
  {
   "cell_type": "code",
   "execution_count": 4,
   "metadata": {},
   "outputs": [],
   "source": [
    "# The monthly amount for the member's household income\n",
    "# YOUR CODE HERE\n",
    "monthly_income = 12000"
   ]
  },
  {
   "cell_type": "markdown",
   "metadata": {},
   "source": [
    "#### Review the endpoint URLs for the API calls to Free Crypto API in order to get the current pricing information for both BTC and ETH."
   ]
  },
  {
   "cell_type": "code",
   "execution_count": 5,
   "metadata": {},
   "outputs": [],
   "source": [
    "# The Free Crypto API Call endpoint URLs for the held cryptocurrency assets\n",
    "btc_url = \"https://api.alternative.me/v2/ticker/Bitcoin/?convert=USD\"\n",
    "eth_url = \"https://api.alternative.me/v2/ticker/Ethereum/?convert=USD\""
   ]
  },
  {
   "cell_type": "markdown",
   "metadata": {},
   "source": [
    "#### Step 2. Use the Requests library to get the current price (in US dollars) of Bitcoin (BTC) and Ethereum (ETH) by using the API endpoints that the starter code supplied."
   ]
  },
  {
   "cell_type": "code",
   "execution_count": 6,
   "metadata": {},
   "outputs": [
    {
     "name": "stdout",
     "output_type": "stream",
     "text": [
      "{\n",
      "    \"data\": {\n",
      "        \"1\": {\n",
      "            \"circulating_supply\": 18886556,\n",
      "            \"id\": 1,\n",
      "            \"last_updated\": 1638214929,\n",
      "            \"max_supply\": 21000000,\n",
      "            \"name\": \"Bitcoin\",\n",
      "            \"quotes\": {\n",
      "                \"USD\": {\n",
      "                    \"market_cap\": 1099767614444,\n",
      "                    \"percent_change_1h\": -0.953788423704192,\n",
      "                    \"percent_change_24h\": 5.8025680168026,\n",
      "                    \"percent_change_7d\": -1.63498292161795,\n",
      "                    \"percentage_change_1h\": -0.953788423704192,\n",
      "                    \"percentage_change_24h\": 5.8025680168026,\n",
      "                    \"percentage_change_7d\": -1.63498292161795,\n",
      "                    \"price\": 58173.0,\n",
      "                    \"volume_24h\": 32906981517\n",
      "                }\n",
      "            },\n",
      "            \"rank\": 1,\n",
      "            \"symbol\": \"BTC\",\n",
      "            \"total_supply\": 18886556,\n",
      "            \"website_slug\": \"bitcoin\"\n",
      "        }\n",
      "    },\n",
      "    \"metadata\": {\n",
      "        \"error\": null,\n",
      "        \"num_cryptocurrencies\": 3105,\n",
      "        \"timestamp\": 1638214929\n",
      "    }\n",
      "}\n"
     ]
    }
   ],
   "source": [
    "# Using the Python requests library, make an API call to access the current price of BTC\n",
    "btc_response = requests.get(btc_url).json()\n",
    "\n",
    "# Use the json.dumps function to review the response data from the API call\n",
    "# Use the indent and sort_keys parameters to make the response object readable\n",
    "print(json.dumps(btc_response, indent=4, sort_keys=True))\n"
   ]
  },
  {
   "cell_type": "code",
   "execution_count": 7,
   "metadata": {},
   "outputs": [
    {
     "name": "stdout",
     "output_type": "stream",
     "text": [
      "{\n",
      "    \"data\": {\n",
      "        \"1027\": {\n",
      "            \"circulating_supply\": 118540434,\n",
      "            \"id\": 1027,\n",
      "            \"last_updated\": 1638214977,\n",
      "            \"max_supply\": 0,\n",
      "            \"name\": \"Ethereum\",\n",
      "            \"quotes\": {\n",
      "                \"USD\": {\n",
      "                    \"market_cap\": 522703769855,\n",
      "                    \"percent_change_1h\": -0.854064538867147,\n",
      "                    \"percent_change_24h\": 6.79327423367831,\n",
      "                    \"percent_change_7d\": 1.92719213295219,\n",
      "                    \"percentage_change_1h\": -0.854064538867147,\n",
      "                    \"percentage_change_24h\": 6.79327423367831,\n",
      "                    \"percentage_change_7d\": 1.92719213295219,\n",
      "                    \"price\": 4402.6,\n",
      "                    \"volume_24h\": 21258758894\n",
      "                }\n",
      "            },\n",
      "            \"rank\": 2,\n",
      "            \"symbol\": \"ETH\",\n",
      "            \"total_supply\": 118540434,\n",
      "            \"website_slug\": \"ethereum\"\n",
      "        }\n",
      "    },\n",
      "    \"metadata\": {\n",
      "        \"error\": null,\n",
      "        \"num_cryptocurrencies\": 3105,\n",
      "        \"timestamp\": 1638214977\n",
      "    }\n",
      "}\n"
     ]
    }
   ],
   "source": [
    "# Using the Python requests library, make an API call to access the current price ETH\n",
    "eth_response = requests.get(eth_url).json()\n",
    "\n",
    "# Use the json.dumps function to review the response data from the API call\n",
    "# Use the indent and sort_keys parameters to make the response object readable\n",
    "print(json.dumps(eth_response, indent=4, sort_keys=True))\n"
   ]
  },
  {
   "cell_type": "markdown",
   "metadata": {},
   "source": [
    "#### Step 3: Navigate the JSON response object to access the current price of each coin, and store each in a variable."
   ]
  },
  {
   "cell_type": "code",
   "execution_count": 8,
   "metadata": {},
   "outputs": [
    {
     "data": {
      "text/plain": [
       "58173.0"
      ]
     },
     "execution_count": 8,
     "metadata": {},
     "output_type": "execute_result"
    }
   ],
   "source": [
    "# Navigate the BTC response object to access the current price of BTC\n",
    "btc_price = btc_response['data']['1']['quotes']['USD']['price']\n",
    "\n",
    "# Print the current price of BTC\n",
    "# YOUR CODE HERE\n",
    "btc_price"
   ]
  },
  {
   "cell_type": "code",
   "execution_count": 9,
   "metadata": {},
   "outputs": [
    {
     "data": {
      "text/plain": [
       "4402.6"
      ]
     },
     "execution_count": 9,
     "metadata": {},
     "output_type": "execute_result"
    }
   ],
   "source": [
    "# Navigate the BTC response object to access the current price of ETH\n",
    "eth_price = eth_response['data']['1027']['quotes']['USD']['price']\n",
    "\n",
    "# Print the current price of ETH\n",
    "# YOUR CODE HERE\n",
    "eth_price"
   ]
  },
  {
   "cell_type": "markdown",
   "metadata": {},
   "source": [
    "### Step 4: Calculate the value, in US dollars, of the current amount of each cryptocurrency and of the entire cryptocurrency wallet."
   ]
  },
  {
   "cell_type": "code",
   "execution_count": 10,
   "metadata": {},
   "outputs": [
    {
     "data": {
      "text/plain": [
       "69807.59999999999"
      ]
     },
     "execution_count": 10,
     "metadata": {},
     "output_type": "execute_result"
    }
   ],
   "source": [
    "# Compute the current value of the BTC holding \n",
    "btc_value = btc_price * btc_coins\n",
    "\n",
    "# Print current value of your holding in BTC\n",
    "# YOUR CODE HERE\n",
    "btc_value"
   ]
  },
  {
   "cell_type": "code",
   "execution_count": 11,
   "metadata": {},
   "outputs": [
    {
     "data": {
      "text/plain": [
       "23333.780000000002"
      ]
     },
     "execution_count": 11,
     "metadata": {},
     "output_type": "execute_result"
    }
   ],
   "source": [
    "# Compute the current value of the ETH holding \n",
    "eth_value = (eth_price * eth_coins)\n",
    "\n",
    "# Print current value of your holding in ETH\n",
    "# YOUR CODE HERE\n",
    "eth_value"
   ]
  },
  {
   "cell_type": "code",
   "execution_count": 12,
   "metadata": {},
   "outputs": [
    {
     "data": {
      "text/plain": [
       "93141.37999999999"
      ]
     },
     "execution_count": 12,
     "metadata": {},
     "output_type": "execute_result"
    }
   ],
   "source": [
    "# Compute the total value of the cryptocurrency wallet\n",
    "# Add the value of the BTC holding to the value of the ETH holding\n",
    "total_crypto_wallet = (btc_value + eth_value)\n",
    "\n",
    "# Print current cryptocurrency wallet balance\n",
    "# YOUR CODE HERE\n",
    "total_crypto_wallet"
   ]
  },
  {
   "cell_type": "markdown",
   "metadata": {},
   "source": [
    "### Evaluate the Stock and Bond Holdings by Using the Alpaca SDK\n",
    "\n",
    "In this section, you’ll determine the current value of a member’s stock and bond holdings. You’ll make an API call to Alpaca via the Alpaca SDK to get the current closing prices of the SPDR S&P 500 ETF Trust (ticker: SPY) and of the iShares Core US Aggregate Bond ETF (ticker: AGG). For the prototype, assume that the member holds 110 shares of SPY, which represents the stock portion of their portfolio, and 200 shares of AGG, which represents the bond portion. To do all this, complete the following steps:\n",
    "\n",
    "1. In the `Starter_Code` folder, create an environment file (`.env`) to store the values of your Alpaca API key and Alpaca secret key.\n",
    "\n",
    "2. Set the variables for the Alpaca API and secret keys. Using the Alpaca SDK, create the Alpaca `tradeapi.REST` object. In this object, include the parameters for the Alpaca API key, the secret key, and the version number.\n",
    "\n",
    "3. Set the following parameters for the Alpaca API call:\n",
    "\n",
    "    - `tickers`: Use the tickers for the member’s stock and bond holdings.\n",
    "\n",
    "    - `timeframe`: Use a time frame of one day.\n",
    "\n",
    "    - `start_date` and `end_date`: Use the same date for these parameters, and format them with the date of the previous weekday (or `2020-08-07`). This is because you want the one closing price for the most-recent trading day.\n",
    "\n",
    "4. Get the current closing prices for `SPY` and `AGG` by using the Alpaca `get_barset` function. Format the response as a Pandas DataFrame by including the `df` property at the end of the `get_barset` function.\n",
    "\n",
    "5. Navigating the Alpaca response DataFrame, select the `SPY` and `AGG` closing prices, and store them as variables.\n",
    "\n",
    "6. Calculate the value, in US dollars, of the current amount of shares in each of the stock and bond portions of the portfolio, and print the results.\n"
   ]
  },
  {
   "cell_type": "markdown",
   "metadata": {},
   "source": [
    "#### Review the total number of shares held in both (SPY) and (AGG)."
   ]
  },
  {
   "cell_type": "code",
   "execution_count": 13,
   "metadata": {},
   "outputs": [],
   "source": [
    "# Current amount of shares held in both the stock (SPY) and bond (AGG) portion of the portfolio.\n",
    "spy_shares = 110\n",
    "agg_shares = 200\n"
   ]
  },
  {
   "cell_type": "markdown",
   "metadata": {},
   "source": [
    "#### Step 1: In the `Starter_Code` folder, create an environment file (`.env`) to store the values of your Alpaca API key and Alpaca secret key."
   ]
  },
  {
   "cell_type": "markdown",
   "metadata": {},
   "source": [
    "#### Step 2: Set the variables for the Alpaca API and secret keys. Using the Alpaca SDK, create the Alpaca `tradeapi.REST` object. In this object, include the parameters for the Alpaca API key, the secret key, and the version number."
   ]
  },
  {
   "cell_type": "code",
   "execution_count": 14,
   "metadata": {},
   "outputs": [
    {
     "data": {
      "text/plain": [
       "str"
      ]
     },
     "metadata": {},
     "output_type": "display_data"
    },
    {
     "data": {
      "text/plain": [
       "str"
      ]
     },
     "metadata": {},
     "output_type": "display_data"
    }
   ],
   "source": [
    "# Set the variables for the Alpaca API and secret keys\n",
    "alpaca_api_key = os.getenv(\"ALPACA_API_KEY\")\n",
    "alpaca_secret_key = os.getenv(\"ALPACA_SECRET_KEY\")\n",
    "\n",
    "# Check the values were imported correctly by evaluating the type of each\n",
    "display(type(alpaca_api_key))\n",
    "display(type(alpaca_secret_key))\n",
    "\n",
    "# Create the Alpaca tradeapi.REST object\n",
    "alpaca = tradeapi.REST(\n",
    "    alpaca_api_key,\n",
    "    alpaca_secret_key,\n",
    "    api_version=\"v2\"\n",
    ")\n"
   ]
  },
  {
   "cell_type": "markdown",
   "metadata": {},
   "source": [
    "#### Step 3: Set the following parameters for the Alpaca API call:\n",
    "\n",
    "- `tickers`: Use the tickers for the member’s stock and bond holdings.\n",
    "\n",
    "- `timeframe`: Use a time frame of one day.\n",
    "\n",
    "- `start_date` and `end_date`: Use the same date for these parameters, and format them with the date of the previous weekday (or `2020-08-07`). This is because you want the one closing price for the most-recent trading day.\n"
   ]
  },
  {
   "cell_type": "code",
   "execution_count": 15,
   "metadata": {},
   "outputs": [],
   "source": [
    "# Set the tickers for both the bond and stock portion of the portfolio\n",
    "tickers = [\"SPY\", \"AGG\"]\n",
    "\n",
    "# Set timeframe to 1D \n",
    "timeframe = \"1D\"\n",
    "\n",
    "# Format current date as ISO format\n",
    "# Set both the start and end date at the date of your prior weekday \n",
    "# This will give you the closing price of the previous trading day\n",
    "# Alternatively you can use a start and end date of 2020-08-07\n",
    "start_date = pd.Timestamp(\"2021-11-22\", tz=\"America/New_York\").isoformat()\n",
    "end_date = pd.Timestamp(\"2021-11-22\", tz=\"America/New_York\").isoformat()\n"
   ]
  },
  {
   "cell_type": "markdown",
   "metadata": {},
   "source": [
    "#### Step 4: Get the current closing prices for `SPY` and `AGG` by using the Alpaca `get_barset` function. Format the response as a Pandas DataFrame by including the `df` property at the end of the `get_barset` function."
   ]
  },
  {
   "cell_type": "code",
   "execution_count": 16,
   "metadata": {},
   "outputs": [
    {
     "data": {
      "text/html": [
       "<div>\n",
       "<style scoped>\n",
       "    .dataframe tbody tr th:only-of-type {\n",
       "        vertical-align: middle;\n",
       "    }\n",
       "\n",
       "    .dataframe tbody tr th {\n",
       "        vertical-align: top;\n",
       "    }\n",
       "\n",
       "    .dataframe thead tr th {\n",
       "        text-align: left;\n",
       "    }\n",
       "\n",
       "    .dataframe thead tr:last-of-type th {\n",
       "        text-align: right;\n",
       "    }\n",
       "</style>\n",
       "<table border=\"1\" class=\"dataframe\">\n",
       "  <thead>\n",
       "    <tr>\n",
       "      <th></th>\n",
       "      <th colspan=\"5\" halign=\"left\">AGG</th>\n",
       "      <th colspan=\"5\" halign=\"left\">SPY</th>\n",
       "    </tr>\n",
       "    <tr>\n",
       "      <th></th>\n",
       "      <th>open</th>\n",
       "      <th>high</th>\n",
       "      <th>low</th>\n",
       "      <th>close</th>\n",
       "      <th>volume</th>\n",
       "      <th>open</th>\n",
       "      <th>high</th>\n",
       "      <th>low</th>\n",
       "      <th>close</th>\n",
       "      <th>volume</th>\n",
       "    </tr>\n",
       "    <tr>\n",
       "      <th>time</th>\n",
       "      <th></th>\n",
       "      <th></th>\n",
       "      <th></th>\n",
       "      <th></th>\n",
       "      <th></th>\n",
       "      <th></th>\n",
       "      <th></th>\n",
       "      <th></th>\n",
       "      <th></th>\n",
       "      <th></th>\n",
       "    </tr>\n",
       "  </thead>\n",
       "  <tbody>\n",
       "    <tr>\n",
       "      <th>2021-11-22 00:00:00-05:00</th>\n",
       "      <td>114.14</td>\n",
       "      <td>114.23</td>\n",
       "      <td>113.82</td>\n",
       "      <td>113.88</td>\n",
       "      <td>6216218</td>\n",
       "      <td>470.81</td>\n",
       "      <td>473.54</td>\n",
       "      <td>467.35</td>\n",
       "      <td>467.53</td>\n",
       "      <td>61497941</td>\n",
       "    </tr>\n",
       "  </tbody>\n",
       "</table>\n",
       "</div>"
      ],
      "text/plain": [
       "                              AGG                                      SPY  \\\n",
       "                             open    high     low   close   volume    open   \n",
       "time                                                                         \n",
       "2021-11-22 00:00:00-05:00  114.14  114.23  113.82  113.88  6216218  470.81   \n",
       "\n",
       "                                                             \n",
       "                             high     low   close    volume  \n",
       "time                                                         \n",
       "2021-11-22 00:00:00-05:00  473.54  467.35  467.53  61497941  "
      ]
     },
     "execution_count": 16,
     "metadata": {},
     "output_type": "execute_result"
    }
   ],
   "source": [
    "# Use the Alpaca get_barset function to get current closing prices the portfolio\n",
    "# Be sure to set the `df` property after the function to format the response object as a DataFrame\n",
    "df_portfolio = alpaca.get_barset(\n",
    "    tickers,\n",
    "    timeframe,\n",
    "    start = start_date,\n",
    "    end = end_date\n",
    ").df\n",
    "\n",
    "# Review the first 5 rows of the Alpaca DataFrame\n",
    "df_portfolio.head()\n"
   ]
  },
  {
   "cell_type": "markdown",
   "metadata": {},
   "source": [
    "#### Step 5: Navigating the Alpaca response DataFrame, select the `SPY` and `AGG` closing prices, and store them as variables."
   ]
  },
  {
   "cell_type": "code",
   "execution_count": 17,
   "metadata": {},
   "outputs": [
    {
     "name": "stdout",
     "output_type": "stream",
     "text": [
      "AGG closing price: $113.88\n"
     ]
    }
   ],
   "source": [
    "# Access the closing price for AGG from the Alpaca DataFrame\n",
    "# Converting the value to a floating point number\n",
    "agg_close_price = float(df_portfolio[\"AGG\"][\"close\"])\n",
    "\n",
    "\n",
    "# Print the AGG closing price\n",
    "print(f\"AGG closing price: ${(agg_close_price):0.2f}\")\n"
   ]
  },
  {
   "cell_type": "code",
   "execution_count": 18,
   "metadata": {},
   "outputs": [
    {
     "name": "stdout",
     "output_type": "stream",
     "text": [
      "SPY closing price: $467.53\n"
     ]
    }
   ],
   "source": [
    "# Access the closing price for SPY from the Alpaca DataFrame\n",
    "# Converting the value to a floating point number\n",
    "spy_close_price = float(df_portfolio[\"SPY\"][\"close\"])\n",
    "\n",
    "# Print the SPY closing price\n",
    "print(f\"SPY closing price: ${(spy_close_price):0.2f}\")\n"
   ]
  },
  {
   "cell_type": "markdown",
   "metadata": {},
   "source": [
    "#### Step 6: Calculate the value, in US dollars, of the current amount of shares in each of the stock and bond portions of the portfolio, and print the results."
   ]
  },
  {
   "cell_type": "code",
   "execution_count": 19,
   "metadata": {},
   "outputs": [
    {
     "name": "stdout",
     "output_type": "stream",
     "text": [
      "The current value of the AGG bond portfolio is: $22776.00\n"
     ]
    }
   ],
   "source": [
    "# Calculate the current value of the bond portion of the portfolio\n",
    "agg_value = agg_shares * agg_close_price\n",
    "\n",
    "# Print the current value of the bond portfolio\n",
    "# YOUR CODE HERE\n",
    "print(f\"The current value of the AGG bond portfolio is: ${(agg_value):0.2f}\")"
   ]
  },
  {
   "cell_type": "code",
   "execution_count": 20,
   "metadata": {},
   "outputs": [
    {
     "name": "stdout",
     "output_type": "stream",
     "text": [
      "The current value of the SPY stock portfolio is: $51428.30\n"
     ]
    }
   ],
   "source": [
    "# Calculate the current value of the stock portion of the portfolio\n",
    "spy_value = spy_shares * spy_close_price\n",
    "\n",
    "# Print the current value of the stock portfolio\n",
    "# YOUR CODE HERE\n",
    "print(f\"The current value of the SPY stock portfolio is: ${(spy_value):0.2f}\")"
   ]
  },
  {
   "cell_type": "code",
   "execution_count": 21,
   "metadata": {},
   "outputs": [
    {
     "name": "stdout",
     "output_type": "stream",
     "text": [
      "The total portfolio value is: $74204.30\n"
     ]
    }
   ],
   "source": [
    "# Calculate the total value of the stock and bond portion of the portfolio\n",
    "total_stocks_bonds = agg_value + spy_value\n",
    "\n",
    "# Print the current balance of the stock and bond portion of the portfolio\n",
    "# YOUR CODE HERE\n",
    "print(f\"The total portfolio value is: ${(total_stocks_bonds):0.2f}\")"
   ]
  },
  {
   "cell_type": "code",
   "execution_count": 22,
   "metadata": {},
   "outputs": [
    {
     "name": "stdout",
     "output_type": "stream",
     "text": [
      "The total value of our member's portfolio is: $167345.68\n"
     ]
    }
   ],
   "source": [
    "# Calculate the total value of the member's entire savings portfolio\n",
    "# Add the value of the cryptocurrency walled to the value of the total stocks and bonds\n",
    "total_portfolio = total_crypto_wallet + total_stocks_bonds\n",
    "\n",
    "# Print current cryptocurrency wallet balance\n",
    "# YOUR CODE HERE\n",
    "print(f\"The total value of our member's portfolio is: ${(total_portfolio):0.2f}\")"
   ]
  },
  {
   "cell_type": "markdown",
   "metadata": {},
   "source": [
    "### Evaluate the Emergency Fund\n",
    "\n",
    "In this section, you’ll use the valuations for the cryptocurrency wallet and for the stock and bond portions of the portfolio to determine if the credit union member has enough savings to build an emergency fund into their financial plan. To do this, complete the following steps:\n",
    "\n",
    "1. Create a Python list named `savings_data` that has two elements. The first element contains the total value of the cryptocurrency wallet. The second element contains the total value of the stock and bond portions of the portfolio.\n",
    "\n",
    "2. Use the `savings_data` list to create a Pandas DataFrame named `savings_df`, and then display this DataFrame. The function to create the DataFrame should take the following three parameters:\n",
    "\n",
    "    - `savings_data`: Use the list that you just created.\n",
    "\n",
    "    - `columns`: Set this parameter equal to a Python list with a single value called `amount`.\n",
    "\n",
    "    - `index`: Set this parameter equal to a Python list with the values of `crypto` and `stock/bond`.\n",
    "\n",
    "3. Use the `savings_df` DataFrame to plot a pie chart that visualizes the composition of the member’s portfolio. The y-axis of the pie chart uses `amount`. Be sure to add a title.\n",
    "\n",
    "4. Using Python, determine if the current portfolio has enough to create an emergency fund as part of the member’s financial plan. Ideally, an emergency fund should equal to three times the member’s monthly income. To do this, implement the following steps:\n",
    "\n",
    "    1. Create a variable named `emergency_fund_value`, and set it equal to three times the value of the member’s `monthly_income` of $12000. (You set this earlier in Part 1).\n",
    "\n",
    "    2. Create a series of three if statements to determine if the member’s total portfolio is large enough to fund the emergency portfolio:\n",
    "\n",
    "        1. If the total portfolio value is greater than the emergency fund value, display a message congratulating the member for having enough money in this fund.\n",
    "\n",
    "        2. Else if the total portfolio value is equal to the emergency fund value, display a message congratulating the member on reaching this important financial goal.\n",
    "\n",
    "        3. Else the total portfolio is less than the emergency fund value, so display a message showing how many dollars away the member is from reaching the goal. (Subtract the total portfolio value from the emergency fund value.)\n"
   ]
  },
  {
   "cell_type": "markdown",
   "metadata": {},
   "source": [
    "#### Step 1: Create a Python list named `savings_data` that has two elements. The first element contains the total value of the cryptocurrency wallet. The second element contains the total value of the stock and bond portions of the portfolio."
   ]
  },
  {
   "cell_type": "code",
   "execution_count": 23,
   "metadata": {},
   "outputs": [
    {
     "data": {
      "text/plain": [
       "(93141.37999999999, 74204.29999999999)"
      ]
     },
     "execution_count": 23,
     "metadata": {},
     "output_type": "execute_result"
    }
   ],
   "source": [
    "# Consolidate financial assets data into a Python list\n",
    "savings_data = total_crypto_wallet, total_stocks_bonds\n",
    "\n",
    "# Review the Python list savings_data\n",
    "# YOUR CODE HERE\n",
    "savings_data"
   ]
  },
  {
   "cell_type": "markdown",
   "metadata": {},
   "source": [
    "#### Step 2: Use the `savings_data` list to create a Pandas DataFrame named `savings_df`, and then display this DataFrame. The function to create the DataFrame should take the following three parameters:\n",
    "\n",
    "- `savings_data`: Use the list that you just created.\n",
    "\n",
    "- `columns`: Set this parameter equal to a Python list with a single value called `amount`.\n",
    "\n",
    "- `index`: Set this parameter equal to a Python list with the values of `crypto` and `stock/bond`.\n"
   ]
  },
  {
   "cell_type": "code",
   "execution_count": 24,
   "metadata": {},
   "outputs": [
    {
     "data": {
      "text/html": [
       "<div>\n",
       "<style scoped>\n",
       "    .dataframe tbody tr th:only-of-type {\n",
       "        vertical-align: middle;\n",
       "    }\n",
       "\n",
       "    .dataframe tbody tr th {\n",
       "        vertical-align: top;\n",
       "    }\n",
       "\n",
       "    .dataframe thead th {\n",
       "        text-align: right;\n",
       "    }\n",
       "</style>\n",
       "<table border=\"1\" class=\"dataframe\">\n",
       "  <thead>\n",
       "    <tr style=\"text-align: right;\">\n",
       "      <th></th>\n",
       "      <th>Amount</th>\n",
       "    </tr>\n",
       "  </thead>\n",
       "  <tbody>\n",
       "    <tr>\n",
       "      <th>Crypto</th>\n",
       "      <td>93141.38</td>\n",
       "    </tr>\n",
       "    <tr>\n",
       "      <th>Stock/Bond</th>\n",
       "      <td>74204.30</td>\n",
       "    </tr>\n",
       "  </tbody>\n",
       "</table>\n",
       "</div>"
      ],
      "text/plain": [
       "              Amount\n",
       "Crypto      93141.38\n",
       "Stock/Bond  74204.30"
      ]
     },
     "execution_count": 24,
     "metadata": {},
     "output_type": "execute_result"
    }
   ],
   "source": [
    "# Create a Pandas DataFrame called savings_df \n",
    "savings_df = pd.DataFrame(\n",
    "    savings_data, \n",
    "    columns=[\"Amount\"], \n",
    "    index=[\"Crypto\", \"Stock/Bond\"]\n",
    ")\n",
    "\n",
    "# Display the savings_df DataFrame\n",
    "# YOUR CODE HERE\n",
    "savings_df"
   ]
  },
  {
   "cell_type": "markdown",
   "metadata": {},
   "source": [
    "#### Step 3: Use the `savings_df` DataFrame to plot a pie chart that visualizes the composition of the member’s portfolio. The y-axis of the pie chart uses `amount`. Be sure to add a title."
   ]
  },
  {
   "cell_type": "code",
   "execution_count": 25,
   "metadata": {},
   "outputs": [
    {
     "data": {
      "text/plain": [
       "<AxesSubplot:title={'center':\"Total Value of our Member's Portfolio\"}, ylabel='Amount'>"
      ]
     },
     "execution_count": 25,
     "metadata": {},
     "output_type": "execute_result"
    },
    {
     "data": {
      "image/png": "[encoded data removed]",
      "text/plain": [
       "<Figure size 504x504 with 1 Axes>"
      ]
     },
     "metadata": {},
     "output_type": "display_data"
    }
   ],
   "source": [
    "# Plot the total value of the member's portfolio (crypto and stock/bond) in a pie chart\n",
    "# YOUR CODE HERE\n",
    "savings_df.plot.pie(y=\"Amount\", figsize=(7,7), title=\"Total Value of our Member's Portfolio\")"
   ]
  },
  {
   "cell_type": "markdown",
   "metadata": {},
   "source": [
    "#### Step 4: Using Python, determine if the current portfolio has enough to create an emergency fund as part of the member’s financial plan. Ideally, an emergency fund should equal to three times the member’s monthly income. To do this, implement the following steps:\n",
    "\n",
    "Step 1. Create a variable named `emergency_fund_value`, and set it equal to three times the value of the member’s `monthly_income` of 12000. (You set this earlier in Part 1).\n",
    "\n",
    "Step 2. Create a series of three if statements to determine if the member’s total portfolio is large enough to fund the emergency portfolio:\n",
    "\n",
    "* If the total portfolio value is greater than the emergency fund value, display a message congratulating the member for having enough money in this fund.\n",
    "\n",
    "* Else if the total portfolio value is equal to the emergency fund value, display a message congratulating the member on reaching this important financial goal.\n",
    "\n",
    "* Else the total portfolio is less than the emergency fund value, so display a message showing how many dollars away the member is from reaching the goal. (Subtract the total portfolio value from the emergency fund value.)\n"
   ]
  },
  {
   "cell_type": "markdown",
   "metadata": {},
   "source": [
    "##### Step 4-1: Create a variable named `emergency_fund_value`, and set it equal to three times the value of the member’s `monthly_income` of 12000. (You set this earlier in Part 1)."
   ]
  },
  {
   "cell_type": "code",
   "execution_count": 26,
   "metadata": {},
   "outputs": [
    {
     "data": {
      "text/plain": [
       "36000"
      ]
     },
     "execution_count": 26,
     "metadata": {},
     "output_type": "execute_result"
    }
   ],
   "source": [
    "# Create a variable named emergency_fund_value\n",
    "emergency_fund_value = monthly_income * 3\n",
    "emergency_fund_value"
   ]
  },
  {
   "cell_type": "markdown",
   "metadata": {},
   "source": [
    "##### Step 4-2: Create a series of three if statements to determine if the member’s total portfolio is large enough to fund the emergency portfolio:\n",
    "\n",
    "* If the total portfolio value is greater than the emergency fund value, display a message congratulating the member for having enough money in this fund.\n",
    "\n",
    "* Else if the total portfolio value is equal to the emergency fund value, display a message congratulating the member on reaching this important financial goal.\n",
    "\n",
    "* Else the total portfolio is less than the emergency fund value, so display a message showing how many dollars away the member is from reaching the goal. (Subtract the total portfolio value from the emergency fund value.)"
   ]
  },
  {
   "cell_type": "code",
   "execution_count": 27,
   "metadata": {},
   "outputs": [
    {
     "name": "stdout",
     "output_type": "stream",
     "text": [
      "Congratulations! Your portfolio value is greater than your emergency fund goal. You now have enough money to fund your Emergency Fund.\n"
     ]
    }
   ],
   "source": [
    "# Evaluate the possibility of creating an emergency fund with 3 conditions:\n",
    "if total_portfolio > emergency_fund_value:\n",
    "    print(\"Congratulations! Your portfolio value is greater than your emergency fund goal. You now have enough money to fund your Emergency Fund.\")\n",
    "\n",
    "elif total_portfolio == emergency_fund_value:\n",
    "    print(\"Congratulations! Your portfolio value is equal to your emergency fund goal. You now have enough money to fund your Emergency Fund.\")\n",
    "\n",
    "else:\n",
    "    print(f\"You are very close at funding your emergency fund. You are: ${(emergency_fund_value - total_portfolio):0.2f} away from your emergengy fund financial goal! Keep it up!\")\n"
   ]
  },
  {
   "cell_type": "markdown",
   "metadata": {},
   "source": [
    "## Part 2: Create a Financial Planner for Retirement"
   ]
  },
  {
   "cell_type": "markdown",
   "metadata": {},
   "source": [
    "### Create the Monte Carlo Simulation\n",
    "\n",
    "In this section, you’ll use the MCForecastTools library to create a Monte Carlo simulation for the member’s savings portfolio. To do this, complete the following steps:\n",
    "\n",
    "1. Make an API call via the Alpaca SDK to get 3 years of historical closing prices for a traditional 60/40 portfolio split: 60% stocks (SPY) and 40% bonds (AGG).\n",
    "\n",
    "2. Run a Monte Carlo simulation of 500 samples and 30 years for the 60/40 portfolio, and then plot the results.The following image shows the overlay line plot resulting from a simulation with these characteristics. However, because a random number generator is used to run each live Monte Carlo simulation, your image will differ slightly from this exact image:\n",
    "\n",
    "![A screenshot depicts the resulting plot.](Images/5-4-monte-carlo-line-plot.png)\n",
    "\n",
    "3. Plot the probability distribution of the Monte Carlo simulation. Plot the probability distribution of the Monte Carlo simulation. The following image shows the histogram plot resulting from a simulation with these characteristics. However, because a random number generator is used to run each live Monte Carlo simulation, your image will differ slightly from this exact image:\n",
    "\n",
    "![A screenshot depicts the histogram plot.](Images/5-4-monte-carlo-histogram.png)\n",
    "\n",
    "4. Generate the summary statistics for the Monte Carlo simulation.\n",
    "\n"
   ]
  },
  {
   "cell_type": "markdown",
   "metadata": {},
   "source": [
    "#### Step 1: Make an API call via the Alpaca SDK to get 3 years of historical closing prices for a traditional 60/40 portfolio split: 60% stocks (SPY) and 40% bonds (AGG)."
   ]
  },
  {
   "cell_type": "code",
   "execution_count": 61,
   "metadata": {},
   "outputs": [],
   "source": [
    "# Set start and end dates of 3 years back from your current date\n",
    "# Alternatively, you can use an end date of 2020-08-07 and work 3 years back from that date \n",
    "\n",
    "timeframe = \"1D\"\n",
    "\n",
    "start_three_yr = pd.Timestamp(\"2017-11-01\", tz=\"America/New_York\").isoformat()\n",
    "end_three_yr = pd.Timestamp(\"2020-11-10\", tz=\"America/New_York\").isoformat()\n",
    "\n",
    "\n",
    "# Set number of rows to 1000 to retrieve the maximum amount of rows\n",
    "limit_row = 1000\n"
   ]
  },
  {
   "cell_type": "code",
   "execution_count": 62,
   "metadata": {},
   "outputs": [
    {
     "data": {
      "text/html": [
       "<div>\n",
       "<style scoped>\n",
       "    .dataframe tbody tr th:only-of-type {\n",
       "        vertical-align: middle;\n",
       "    }\n",
       "\n",
       "    .dataframe tbody tr th {\n",
       "        vertical-align: top;\n",
       "    }\n",
       "\n",
       "    .dataframe thead tr th {\n",
       "        text-align: left;\n",
       "    }\n",
       "</style>\n",
       "<table border=\"1\" class=\"dataframe\">\n",
       "  <thead>\n",
       "    <tr>\n",
       "      <th></th>\n",
       "      <th colspan=\"5\" halign=\"left\">AGG</th>\n",
       "      <th colspan=\"5\" halign=\"left\">SPY</th>\n",
       "    </tr>\n",
       "    <tr>\n",
       "      <th></th>\n",
       "      <th>open</th>\n",
       "      <th>high</th>\n",
       "      <th>low</th>\n",
       "      <th>close</th>\n",
       "      <th>volume</th>\n",
       "      <th>open</th>\n",
       "      <th>high</th>\n",
       "      <th>low</th>\n",
       "      <th>close</th>\n",
       "      <th>volume</th>\n",
       "    </tr>\n",
       "  </thead>\n",
       "  <tbody>\n",
       "    <tr>\n",
       "      <th>2017-11-01</th>\n",
       "      <td>109.17</td>\n",
       "      <td>109.410</td>\n",
       "      <td>109.170</td>\n",
       "      <td>109.29</td>\n",
       "      <td>2289204.0</td>\n",
       "      <td>258.04</td>\n",
       "      <td>258.43</td>\n",
       "      <td>257.07</td>\n",
       "      <td>257.51</td>\n",
       "      <td>40454406</td>\n",
       "    </tr>\n",
       "    <tr>\n",
       "      <th>2017-11-02</th>\n",
       "      <td>109.35</td>\n",
       "      <td>109.495</td>\n",
       "      <td>109.331</td>\n",
       "      <td>109.36</td>\n",
       "      <td>1870711.0</td>\n",
       "      <td>257.41</td>\n",
       "      <td>257.75</td>\n",
       "      <td>256.19</td>\n",
       "      <td>257.61</td>\n",
       "      <td>42432046</td>\n",
       "    </tr>\n",
       "    <tr>\n",
       "      <th>2017-11-03</th>\n",
       "      <td>109.48</td>\n",
       "      <td>109.480</td>\n",
       "      <td>109.290</td>\n",
       "      <td>109.46</td>\n",
       "      <td>1511462.0</td>\n",
       "      <td>257.78</td>\n",
       "      <td>258.50</td>\n",
       "      <td>257.30</td>\n",
       "      <td>258.44</td>\n",
       "      <td>38008582</td>\n",
       "    </tr>\n",
       "    <tr>\n",
       "      <th>2017-11-06</th>\n",
       "      <td>109.56</td>\n",
       "      <td>109.590</td>\n",
       "      <td>109.460</td>\n",
       "      <td>109.54</td>\n",
       "      <td>1120425.0</td>\n",
       "      <td>258.29</td>\n",
       "      <td>259.00</td>\n",
       "      <td>258.22</td>\n",
       "      <td>258.82</td>\n",
       "      <td>22683758</td>\n",
       "    </tr>\n",
       "    <tr>\n",
       "      <th>2017-11-07</th>\n",
       "      <td>109.58</td>\n",
       "      <td>109.610</td>\n",
       "      <td>109.490</td>\n",
       "      <td>109.57</td>\n",
       "      <td>1617243.0</td>\n",
       "      <td>258.97</td>\n",
       "      <td>259.35</td>\n",
       "      <td>258.09</td>\n",
       "      <td>258.70</td>\n",
       "      <td>40140309</td>\n",
       "    </tr>\n",
       "  </tbody>\n",
       "</table>\n",
       "</div>"
      ],
      "text/plain": [
       "               AGG                                          SPY          \\\n",
       "              open     high      low   close     volume    open    high   \n",
       "2017-11-01  109.17  109.410  109.170  109.29  2289204.0  258.04  258.43   \n",
       "2017-11-02  109.35  109.495  109.331  109.36  1870711.0  257.41  257.75   \n",
       "2017-11-03  109.48  109.480  109.290  109.46  1511462.0  257.78  258.50   \n",
       "2017-11-06  109.56  109.590  109.460  109.54  1120425.0  258.29  259.00   \n",
       "2017-11-07  109.58  109.610  109.490  109.57  1617243.0  258.97  259.35   \n",
       "\n",
       "                                      \n",
       "               low   close    volume  \n",
       "2017-11-01  257.07  257.51  40454406  \n",
       "2017-11-02  256.19  257.61  42432046  \n",
       "2017-11-03  257.30  258.44  38008582  \n",
       "2017-11-06  258.22  258.82  22683758  \n",
       "2017-11-07  258.09  258.70  40140309  "
      ]
     },
     "metadata": {},
     "output_type": "display_data"
    },
    {
     "data": {
      "text/html": [
       "<div>\n",
       "<style scoped>\n",
       "    .dataframe tbody tr th:only-of-type {\n",
       "        vertical-align: middle;\n",
       "    }\n",
       "\n",
       "    .dataframe tbody tr th {\n",
       "        vertical-align: top;\n",
       "    }\n",
       "\n",
       "    .dataframe thead tr th {\n",
       "        text-align: left;\n",
       "    }\n",
       "</style>\n",
       "<table border=\"1\" class=\"dataframe\">\n",
       "  <thead>\n",
       "    <tr>\n",
       "      <th></th>\n",
       "      <th colspan=\"5\" halign=\"left\">AGG</th>\n",
       "      <th colspan=\"5\" halign=\"left\">SPY</th>\n",
       "    </tr>\n",
       "    <tr>\n",
       "      <th></th>\n",
       "      <th>open</th>\n",
       "      <th>high</th>\n",
       "      <th>low</th>\n",
       "      <th>close</th>\n",
       "      <th>volume</th>\n",
       "      <th>open</th>\n",
       "      <th>high</th>\n",
       "      <th>low</th>\n",
       "      <th>close</th>\n",
       "      <th>volume</th>\n",
       "    </tr>\n",
       "  </thead>\n",
       "  <tbody>\n",
       "    <tr>\n",
       "      <th>2020-11-04</th>\n",
       "      <td>117.90</td>\n",
       "      <td>118.04</td>\n",
       "      <td>117.8300</td>\n",
       "      <td>117.925</td>\n",
       "      <td>4510329.0</td>\n",
       "      <td>340.86</td>\n",
       "      <td>347.94</td>\n",
       "      <td>339.59</td>\n",
       "      <td>343.495</td>\n",
       "      <td>101560371</td>\n",
       "    </tr>\n",
       "    <tr>\n",
       "      <th>2020-11-05</th>\n",
       "      <td>118.09</td>\n",
       "      <td>118.12</td>\n",
       "      <td>117.9100</td>\n",
       "      <td>118.060</td>\n",
       "      <td>4729082.0</td>\n",
       "      <td>349.25</td>\n",
       "      <td>352.19</td>\n",
       "      <td>348.86</td>\n",
       "      <td>350.210</td>\n",
       "      <td>67420157</td>\n",
       "    </tr>\n",
       "    <tr>\n",
       "      <th>2020-11-06</th>\n",
       "      <td>117.81</td>\n",
       "      <td>117.86</td>\n",
       "      <td>117.6699</td>\n",
       "      <td>117.800</td>\n",
       "      <td>5106146.0</td>\n",
       "      <td>349.93</td>\n",
       "      <td>351.51</td>\n",
       "      <td>347.65</td>\n",
       "      <td>350.190</td>\n",
       "      <td>58137413</td>\n",
       "    </tr>\n",
       "    <tr>\n",
       "      <th>2020-11-09</th>\n",
       "      <td>117.40</td>\n",
       "      <td>117.47</td>\n",
       "      <td>117.0600</td>\n",
       "      <td>117.240</td>\n",
       "      <td>6073474.0</td>\n",
       "      <td>363.97</td>\n",
       "      <td>364.38</td>\n",
       "      <td>354.06</td>\n",
       "      <td>354.540</td>\n",
       "      <td>140613847</td>\n",
       "    </tr>\n",
       "    <tr>\n",
       "      <th>2020-11-10</th>\n",
       "      <td>117.05</td>\n",
       "      <td>117.23</td>\n",
       "      <td>117.0300</td>\n",
       "      <td>117.050</td>\n",
       "      <td>4663301.0</td>\n",
       "      <td>353.49</td>\n",
       "      <td>355.18</td>\n",
       "      <td>350.51</td>\n",
       "      <td>354.070</td>\n",
       "      <td>69143380</td>\n",
       "    </tr>\n",
       "  </tbody>\n",
       "</table>\n",
       "</div>"
      ],
      "text/plain": [
       "               AGG                                           SPY          \\\n",
       "              open    high       low    close     volume    open    high   \n",
       "2020-11-04  117.90  118.04  117.8300  117.925  4510329.0  340.86  347.94   \n",
       "2020-11-05  118.09  118.12  117.9100  118.060  4729082.0  349.25  352.19   \n",
       "2020-11-06  117.81  117.86  117.6699  117.800  5106146.0  349.93  351.51   \n",
       "2020-11-09  117.40  117.47  117.0600  117.240  6073474.0  363.97  364.38   \n",
       "2020-11-10  117.05  117.23  117.0300  117.050  4663301.0  353.49  355.18   \n",
       "\n",
       "                                        \n",
       "               low    close     volume  \n",
       "2020-11-04  339.59  343.495  101560371  \n",
       "2020-11-05  348.86  350.210   67420157  \n",
       "2020-11-06  347.65  350.190   58137413  \n",
       "2020-11-09  354.06  354.540  140613847  \n",
       "2020-11-10  350.51  354.070   69143380  "
      ]
     },
     "metadata": {},
     "output_type": "display_data"
    }
   ],
   "source": [
    "# Use the Alpaca get_barset function to make the API call to get the 3 years worth of pricing data\n",
    "# The tickers and timeframe parameters should have been set in Part 1 of this activity \n",
    "# The start and end dates should be updated with the information set above\n",
    "# Remember to add the df property to the end of the call so the response is returned as a DataFrame\n",
    "df_portfolio_analysis = alpaca.get_barset(\n",
    "    tickers,\n",
    "    timeframe,\n",
    "    start = start_three_yr,\n",
    "    end = end_three_yr,\n",
    "    limit=limit_row\n",
    "    \n",
    ").df\n",
    "\n",
    "df_portfolio_analysis.index = df_portfolio_analysis.index.date\n",
    "\n",
    "# Display both the first and last five rows of the DataFrame\n",
    "display(df_portfolio_analysis.head())\n",
    "display(df_portfolio_analysis.tail())\n"
   ]
  },
  {
   "cell_type": "markdown",
   "metadata": {},
   "source": [
    "#### Step 2: Run a Monte Carlo simulation of 500 samples and 30 years for the 60/40 portfolio, and then plot the results."
   ]
  },
  {
   "cell_type": "code",
   "execution_count": 63,
   "metadata": {},
   "outputs": [
    {
     "data": {
      "text/html": [
       "<div>\n",
       "<style scoped>\n",
       "    .dataframe tbody tr th:only-of-type {\n",
       "        vertical-align: middle;\n",
       "    }\n",
       "\n",
       "    .dataframe tbody tr th {\n",
       "        vertical-align: top;\n",
       "    }\n",
       "\n",
       "    .dataframe thead tr th {\n",
       "        text-align: left;\n",
       "    }\n",
       "</style>\n",
       "<table border=\"1\" class=\"dataframe\">\n",
       "  <thead>\n",
       "    <tr>\n",
       "      <th></th>\n",
       "      <th colspan=\"6\" halign=\"left\">AGG</th>\n",
       "      <th colspan=\"6\" halign=\"left\">SPY</th>\n",
       "    </tr>\n",
       "    <tr>\n",
       "      <th></th>\n",
       "      <th>open</th>\n",
       "      <th>high</th>\n",
       "      <th>low</th>\n",
       "      <th>close</th>\n",
       "      <th>volume</th>\n",
       "      <th>daily_return</th>\n",
       "      <th>open</th>\n",
       "      <th>high</th>\n",
       "      <th>low</th>\n",
       "      <th>close</th>\n",
       "      <th>volume</th>\n",
       "      <th>daily_return</th>\n",
       "    </tr>\n",
       "  </thead>\n",
       "  <tbody>\n",
       "    <tr>\n",
       "      <th>2017-11-02</th>\n",
       "      <td>109.35</td>\n",
       "      <td>109.495</td>\n",
       "      <td>109.331</td>\n",
       "      <td>109.36</td>\n",
       "      <td>1870711.0</td>\n",
       "      <td>0.000640</td>\n",
       "      <td>257.41</td>\n",
       "      <td>257.75</td>\n",
       "      <td>256.19</td>\n",
       "      <td>257.61</td>\n",
       "      <td>42432046</td>\n",
       "      <td>0.000388</td>\n",
       "    </tr>\n",
       "    <tr>\n",
       "      <th>2017-11-03</th>\n",
       "      <td>109.48</td>\n",
       "      <td>109.480</td>\n",
       "      <td>109.290</td>\n",
       "      <td>109.46</td>\n",
       "      <td>1511462.0</td>\n",
       "      <td>0.000914</td>\n",
       "      <td>257.78</td>\n",
       "      <td>258.50</td>\n",
       "      <td>257.30</td>\n",
       "      <td>258.44</td>\n",
       "      <td>38008582</td>\n",
       "      <td>0.003222</td>\n",
       "    </tr>\n",
       "    <tr>\n",
       "      <th>2017-11-06</th>\n",
       "      <td>109.56</td>\n",
       "      <td>109.590</td>\n",
       "      <td>109.460</td>\n",
       "      <td>109.54</td>\n",
       "      <td>1120425.0</td>\n",
       "      <td>0.000731</td>\n",
       "      <td>258.29</td>\n",
       "      <td>259.00</td>\n",
       "      <td>258.22</td>\n",
       "      <td>258.82</td>\n",
       "      <td>22683758</td>\n",
       "      <td>0.001470</td>\n",
       "    </tr>\n",
       "    <tr>\n",
       "      <th>2017-11-07</th>\n",
       "      <td>109.58</td>\n",
       "      <td>109.610</td>\n",
       "      <td>109.490</td>\n",
       "      <td>109.57</td>\n",
       "      <td>1617243.0</td>\n",
       "      <td>0.000274</td>\n",
       "      <td>258.97</td>\n",
       "      <td>259.35</td>\n",
       "      <td>258.09</td>\n",
       "      <td>258.70</td>\n",
       "      <td>40140309</td>\n",
       "      <td>-0.000464</td>\n",
       "    </tr>\n",
       "  </tbody>\n",
       "</table>\n",
       "</div>"
      ],
      "text/plain": [
       "               AGG                                                       SPY  \\\n",
       "              open     high      low   close     volume daily_return    open   \n",
       "2017-11-02  109.35  109.495  109.331  109.36  1870711.0     0.000640  257.41   \n",
       "2017-11-03  109.48  109.480  109.290  109.46  1511462.0     0.000914  257.78   \n",
       "2017-11-06  109.56  109.590  109.460  109.54  1120425.0     0.000731  258.29   \n",
       "2017-11-07  109.58  109.610  109.490  109.57  1617243.0     0.000274  258.97   \n",
       "\n",
       "                                                           \n",
       "              high     low   close    volume daily_return  \n",
       "2017-11-02  257.75  256.19  257.61  42432046     0.000388  \n",
       "2017-11-03  258.50  257.30  258.44  38008582     0.003222  \n",
       "2017-11-06  259.00  258.22  258.82  22683758     0.001470  \n",
       "2017-11-07  259.35  258.09  258.70  40140309    -0.000464  "
      ]
     },
     "metadata": {},
     "output_type": "display_data"
    },
    {
     "data": {
      "text/html": [
       "<div>\n",
       "<style scoped>\n",
       "    .dataframe tbody tr th:only-of-type {\n",
       "        vertical-align: middle;\n",
       "    }\n",
       "\n",
       "    .dataframe tbody tr th {\n",
       "        vertical-align: top;\n",
       "    }\n",
       "\n",
       "    .dataframe thead tr th {\n",
       "        text-align: left;\n",
       "    }\n",
       "</style>\n",
       "<table border=\"1\" class=\"dataframe\">\n",
       "  <thead>\n",
       "    <tr>\n",
       "      <th></th>\n",
       "      <th colspan=\"6\" halign=\"left\">AGG</th>\n",
       "      <th colspan=\"6\" halign=\"left\">SPY</th>\n",
       "    </tr>\n",
       "    <tr>\n",
       "      <th></th>\n",
       "      <th>open</th>\n",
       "      <th>high</th>\n",
       "      <th>low</th>\n",
       "      <th>close</th>\n",
       "      <th>volume</th>\n",
       "      <th>daily_return</th>\n",
       "      <th>open</th>\n",
       "      <th>high</th>\n",
       "      <th>low</th>\n",
       "      <th>close</th>\n",
       "      <th>volume</th>\n",
       "      <th>daily_return</th>\n",
       "    </tr>\n",
       "  </thead>\n",
       "  <tbody>\n",
       "    <tr>\n",
       "      <th>2020-11-04</th>\n",
       "      <td>117.90</td>\n",
       "      <td>118.04</td>\n",
       "      <td>117.8300</td>\n",
       "      <td>117.925</td>\n",
       "      <td>4510329.0</td>\n",
       "      <td>0.006615</td>\n",
       "      <td>340.86</td>\n",
       "      <td>347.94</td>\n",
       "      <td>339.59</td>\n",
       "      <td>343.495</td>\n",
       "      <td>101560371</td>\n",
       "      <td>0.022398</td>\n",
       "    </tr>\n",
       "    <tr>\n",
       "      <th>2020-11-05</th>\n",
       "      <td>118.09</td>\n",
       "      <td>118.12</td>\n",
       "      <td>117.9100</td>\n",
       "      <td>118.060</td>\n",
       "      <td>4729082.0</td>\n",
       "      <td>0.001145</td>\n",
       "      <td>349.25</td>\n",
       "      <td>352.19</td>\n",
       "      <td>348.86</td>\n",
       "      <td>350.210</td>\n",
       "      <td>67420157</td>\n",
       "      <td>0.019549</td>\n",
       "    </tr>\n",
       "    <tr>\n",
       "      <th>2020-11-06</th>\n",
       "      <td>117.81</td>\n",
       "      <td>117.86</td>\n",
       "      <td>117.6699</td>\n",
       "      <td>117.800</td>\n",
       "      <td>5106146.0</td>\n",
       "      <td>-0.002202</td>\n",
       "      <td>349.93</td>\n",
       "      <td>351.51</td>\n",
       "      <td>347.65</td>\n",
       "      <td>350.190</td>\n",
       "      <td>58137413</td>\n",
       "      <td>-0.000057</td>\n",
       "    </tr>\n",
       "    <tr>\n",
       "      <th>2020-11-09</th>\n",
       "      <td>117.40</td>\n",
       "      <td>117.47</td>\n",
       "      <td>117.0600</td>\n",
       "      <td>117.240</td>\n",
       "      <td>6073474.0</td>\n",
       "      <td>-0.004754</td>\n",
       "      <td>363.97</td>\n",
       "      <td>364.38</td>\n",
       "      <td>354.06</td>\n",
       "      <td>354.540</td>\n",
       "      <td>140613847</td>\n",
       "      <td>0.012422</td>\n",
       "    </tr>\n",
       "    <tr>\n",
       "      <th>2020-11-10</th>\n",
       "      <td>117.05</td>\n",
       "      <td>117.23</td>\n",
       "      <td>117.0300</td>\n",
       "      <td>117.050</td>\n",
       "      <td>4663301.0</td>\n",
       "      <td>-0.001621</td>\n",
       "      <td>353.49</td>\n",
       "      <td>355.18</td>\n",
       "      <td>350.51</td>\n",
       "      <td>354.070</td>\n",
       "      <td>69143380</td>\n",
       "      <td>-0.001326</td>\n",
       "    </tr>\n",
       "  </tbody>\n",
       "</table>\n",
       "</div>"
      ],
      "text/plain": [
       "               AGG                                                        SPY  \\\n",
       "              open    high       low    close     volume daily_return    open   \n",
       "2020-11-04  117.90  118.04  117.8300  117.925  4510329.0     0.006615  340.86   \n",
       "2020-11-05  118.09  118.12  117.9100  118.060  4729082.0     0.001145  349.25   \n",
       "2020-11-06  117.81  117.86  117.6699  117.800  5106146.0    -0.002202  349.93   \n",
       "2020-11-09  117.40  117.47  117.0600  117.240  6073474.0    -0.004754  363.97   \n",
       "2020-11-10  117.05  117.23  117.0300  117.050  4663301.0    -0.001621  353.49   \n",
       "\n",
       "                                                             \n",
       "              high     low    close     volume daily_return  \n",
       "2020-11-04  347.94  339.59  343.495  101560371     0.022398  \n",
       "2020-11-05  352.19  348.86  350.210   67420157     0.019549  \n",
       "2020-11-06  351.51  347.65  350.190   58137413    -0.000057  \n",
       "2020-11-09  364.38  354.06  354.540  140613847     0.012422  \n",
       "2020-11-10  355.18  350.51  354.070   69143380    -0.001326  "
      ]
     },
     "metadata": {},
     "output_type": "display_data"
    }
   ],
   "source": [
    "# Configure the Monte Carlo simulation to forecast 30 years cumulative returns\n",
    "# The weights should be split 40% to AGG and 60% to SPY.\n",
    "# Run 500 samples.\n",
    "thirty_year_simulation = MCSimulation(\n",
    "    portfolio_data=df_portfolio_analysis,\n",
    "    weights=[0.40, 0.60],\n",
    "    num_simulation=500,\n",
    "    num_trading_days=7560,\n",
    ")\n",
    "\n",
    "# Review the simulation input data\n",
    "# YOUR CODE HERE\n",
    "display(thirty_year_simulation.portfolio_data.head().dropna())\n",
    "display(thirty_year_simulation.portfolio_data.tail().dropna())"
   ]
  },
  {
   "cell_type": "code",
   "execution_count": 64,
   "metadata": {},
   "outputs": [
    {
     "name": "stdout",
     "output_type": "stream",
     "text": [
      "Running Monte Carlo simulation number 0.\n",
      "Running Monte Carlo simulation number 10.\n",
      "Running Monte Carlo simulation number 20.\n",
      "Running Monte Carlo simulation number 30.\n",
      "Running Monte Carlo simulation number 40.\n",
      "Running Monte Carlo simulation number 50.\n",
      "Running Monte Carlo simulation number 60.\n",
      "Running Monte Carlo simulation number 70.\n",
      "Running Monte Carlo simulation number 80.\n",
      "Running Monte Carlo simulation number 90.\n",
      "Running Monte Carlo simulation number 100.\n",
      "Running Monte Carlo simulation number 110.\n",
      "Running Monte Carlo simulation number 120.\n",
      "Running Monte Carlo simulation number 130.\n",
      "Running Monte Carlo simulation number 140.\n",
      "Running Monte Carlo simulation number 150.\n",
      "Running Monte Carlo simulation number 160.\n",
      "Running Monte Carlo simulation number 170.\n",
      "Running Monte Carlo simulation number 180.\n",
      "Running Monte Carlo simulation number 190.\n",
      "Running Monte Carlo simulation number 200.\n",
      "Running Monte Carlo simulation number 210.\n",
      "Running Monte Carlo simulation number 220.\n",
      "Running Monte Carlo simulation number 230.\n",
      "Running Monte Carlo simulation number 240.\n",
      "Running Monte Carlo simulation number 250.\n",
      "Running Monte Carlo simulation number 260.\n",
      "Running Monte Carlo simulation number 270.\n",
      "Running Monte Carlo simulation number 280.\n",
      "Running Monte Carlo simulation number 290.\n",
      "Running Monte Carlo simulation number 300.\n",
      "Running Monte Carlo simulation number 310.\n",
      "Running Monte Carlo simulation number 320.\n",
      "Running Monte Carlo simulation number 330.\n",
      "Running Monte Carlo simulation number 340.\n",
      "Running Monte Carlo simulation number 350.\n",
      "Running Monte Carlo simulation number 360.\n",
      "Running Monte Carlo simulation number 370.\n",
      "Running Monte Carlo simulation number 380.\n",
      "Running Monte Carlo simulation number 390.\n",
      "Running Monte Carlo simulation number 400.\n",
      "Running Monte Carlo simulation number 410.\n",
      "Running Monte Carlo simulation number 420.\n",
      "Running Monte Carlo simulation number 430.\n",
      "Running Monte Carlo simulation number 440.\n",
      "Running Monte Carlo simulation number 450.\n",
      "Running Monte Carlo simulation number 460.\n",
      "Running Monte Carlo simulation number 470.\n",
      "Running Monte Carlo simulation number 480.\n",
      "Running Monte Carlo simulation number 490.\n"
     ]
    },
    {
     "data": {
      "text/html": [
       "<div>\n",
       "<style scoped>\n",
       "    .dataframe tbody tr th:only-of-type {\n",
       "        vertical-align: middle;\n",
       "    }\n",
       "\n",
       "    .dataframe tbody tr th {\n",
       "        vertical-align: top;\n",
       "    }\n",
       "\n",
       "    .dataframe thead th {\n",
       "        text-align: right;\n",
       "    }\n",
       "</style>\n",
       "<table border=\"1\" class=\"dataframe\">\n",
       "  <thead>\n",
       "    <tr style=\"text-align: right;\">\n",
       "      <th></th>\n",
       "      <th>0</th>\n",
       "      <th>1</th>\n",
       "      <th>2</th>\n",
       "      <th>3</th>\n",
       "      <th>4</th>\n",
       "      <th>5</th>\n",
       "      <th>6</th>\n",
       "      <th>7</th>\n",
       "      <th>8</th>\n",
       "      <th>9</th>\n",
       "      <th>...</th>\n",
       "      <th>490</th>\n",
       "      <th>491</th>\n",
       "      <th>492</th>\n",
       "      <th>493</th>\n",
       "      <th>494</th>\n",
       "      <th>495</th>\n",
       "      <th>496</th>\n",
       "      <th>497</th>\n",
       "      <th>498</th>\n",
       "      <th>499</th>\n",
       "    </tr>\n",
       "  </thead>\n",
       "  <tbody>\n",
       "    <tr>\n",
       "      <th>0</th>\n",
       "      <td>1.000000</td>\n",
       "      <td>1.000000</td>\n",
       "      <td>1.000000</td>\n",
       "      <td>1.000000</td>\n",
       "      <td>1.000000</td>\n",
       "      <td>1.000000</td>\n",
       "      <td>1.000000</td>\n",
       "      <td>1.000000</td>\n",
       "      <td>1.000000</td>\n",
       "      <td>1.000000</td>\n",
       "      <td>...</td>\n",
       "      <td>1.000000</td>\n",
       "      <td>1.000000</td>\n",
       "      <td>1.000000</td>\n",
       "      <td>1.000000</td>\n",
       "      <td>1.000000</td>\n",
       "      <td>1.000000</td>\n",
       "      <td>1.000000</td>\n",
       "      <td>1.000000</td>\n",
       "      <td>1.000000</td>\n",
       "      <td>1.000000</td>\n",
       "    </tr>\n",
       "    <tr>\n",
       "      <th>1</th>\n",
       "      <td>0.985520</td>\n",
       "      <td>0.998259</td>\n",
       "      <td>0.991609</td>\n",
       "      <td>0.995978</td>\n",
       "      <td>0.993785</td>\n",
       "      <td>1.002313</td>\n",
       "      <td>0.997268</td>\n",
       "      <td>1.007422</td>\n",
       "      <td>0.993933</td>\n",
       "      <td>1.003894</td>\n",
       "      <td>...</td>\n",
       "      <td>1.005886</td>\n",
       "      <td>1.013516</td>\n",
       "      <td>0.984903</td>\n",
       "      <td>1.002935</td>\n",
       "      <td>0.996269</td>\n",
       "      <td>1.003975</td>\n",
       "      <td>1.014205</td>\n",
       "      <td>1.010962</td>\n",
       "      <td>1.003018</td>\n",
       "      <td>0.987036</td>\n",
       "    </tr>\n",
       "    <tr>\n",
       "      <th>2</th>\n",
       "      <td>0.975521</td>\n",
       "      <td>0.991794</td>\n",
       "      <td>1.002839</td>\n",
       "      <td>1.005546</td>\n",
       "      <td>0.997561</td>\n",
       "      <td>1.006409</td>\n",
       "      <td>0.987405</td>\n",
       "      <td>1.011809</td>\n",
       "      <td>0.998080</td>\n",
       "      <td>1.015854</td>\n",
       "      <td>...</td>\n",
       "      <td>1.013561</td>\n",
       "      <td>1.013663</td>\n",
       "      <td>0.992993</td>\n",
       "      <td>0.993750</td>\n",
       "      <td>0.993259</td>\n",
       "      <td>1.012196</td>\n",
       "      <td>1.025491</td>\n",
       "      <td>1.000964</td>\n",
       "      <td>1.009987</td>\n",
       "      <td>0.989416</td>\n",
       "    </tr>\n",
       "    <tr>\n",
       "      <th>3</th>\n",
       "      <td>0.986305</td>\n",
       "      <td>0.992674</td>\n",
       "      <td>1.001116</td>\n",
       "      <td>1.021150</td>\n",
       "      <td>0.996725</td>\n",
       "      <td>0.985922</td>\n",
       "      <td>0.980872</td>\n",
       "      <td>1.021776</td>\n",
       "      <td>1.016220</td>\n",
       "      <td>1.004341</td>\n",
       "      <td>...</td>\n",
       "      <td>0.998941</td>\n",
       "      <td>1.030375</td>\n",
       "      <td>0.986486</td>\n",
       "      <td>0.996706</td>\n",
       "      <td>0.998611</td>\n",
       "      <td>0.998508</td>\n",
       "      <td>1.021024</td>\n",
       "      <td>0.999879</td>\n",
       "      <td>1.015872</td>\n",
       "      <td>0.985266</td>\n",
       "    </tr>\n",
       "    <tr>\n",
       "      <th>4</th>\n",
       "      <td>0.969900</td>\n",
       "      <td>0.979911</td>\n",
       "      <td>0.993561</td>\n",
       "      <td>1.012584</td>\n",
       "      <td>0.989819</td>\n",
       "      <td>1.000412</td>\n",
       "      <td>1.001935</td>\n",
       "      <td>1.039500</td>\n",
       "      <td>1.021759</td>\n",
       "      <td>0.994810</td>\n",
       "      <td>...</td>\n",
       "      <td>1.010939</td>\n",
       "      <td>1.030529</td>\n",
       "      <td>0.976755</td>\n",
       "      <td>0.992330</td>\n",
       "      <td>1.009406</td>\n",
       "      <td>0.994578</td>\n",
       "      <td>1.022121</td>\n",
       "      <td>1.000235</td>\n",
       "      <td>1.028722</td>\n",
       "      <td>0.968539</td>\n",
       "    </tr>\n",
       "    <tr>\n",
       "      <th>...</th>\n",
       "      <td>...</td>\n",
       "      <td>...</td>\n",
       "      <td>...</td>\n",
       "      <td>...</td>\n",
       "      <td>...</td>\n",
       "      <td>...</td>\n",
       "      <td>...</td>\n",
       "      <td>...</td>\n",
       "      <td>...</td>\n",
       "      <td>...</td>\n",
       "      <td>...</td>\n",
       "      <td>...</td>\n",
       "      <td>...</td>\n",
       "      <td>...</td>\n",
       "      <td>...</td>\n",
       "      <td>...</td>\n",
       "      <td>...</td>\n",
       "      <td>...</td>\n",
       "      <td>...</td>\n",
       "      <td>...</td>\n",
       "      <td>...</td>\n",
       "    </tr>\n",
       "    <tr>\n",
       "      <th>7556</th>\n",
       "      <td>36.856568</td>\n",
       "      <td>5.946025</td>\n",
       "      <td>14.178646</td>\n",
       "      <td>34.158745</td>\n",
       "      <td>3.191374</td>\n",
       "      <td>10.276299</td>\n",
       "      <td>2.905257</td>\n",
       "      <td>17.499158</td>\n",
       "      <td>19.533824</td>\n",
       "      <td>7.886413</td>\n",
       "      <td>...</td>\n",
       "      <td>2.746466</td>\n",
       "      <td>8.112955</td>\n",
       "      <td>8.297158</td>\n",
       "      <td>12.225107</td>\n",
       "      <td>36.495661</td>\n",
       "      <td>1.490267</td>\n",
       "      <td>14.473789</td>\n",
       "      <td>26.410500</td>\n",
       "      <td>32.221558</td>\n",
       "      <td>26.653317</td>\n",
       "    </tr>\n",
       "    <tr>\n",
       "      <th>7557</th>\n",
       "      <td>36.973948</td>\n",
       "      <td>5.946306</td>\n",
       "      <td>13.975940</td>\n",
       "      <td>34.100985</td>\n",
       "      <td>3.156703</td>\n",
       "      <td>10.300544</td>\n",
       "      <td>2.885480</td>\n",
       "      <td>17.279054</td>\n",
       "      <td>19.354244</td>\n",
       "      <td>7.906658</td>\n",
       "      <td>...</td>\n",
       "      <td>2.759617</td>\n",
       "      <td>8.205271</td>\n",
       "      <td>8.217688</td>\n",
       "      <td>12.201925</td>\n",
       "      <td>36.461984</td>\n",
       "      <td>1.500681</td>\n",
       "      <td>14.686425</td>\n",
       "      <td>26.170526</td>\n",
       "      <td>32.370956</td>\n",
       "      <td>26.379809</td>\n",
       "    </tr>\n",
       "    <tr>\n",
       "      <th>7558</th>\n",
       "      <td>36.845504</td>\n",
       "      <td>5.999503</td>\n",
       "      <td>14.004222</td>\n",
       "      <td>34.724567</td>\n",
       "      <td>3.174588</td>\n",
       "      <td>10.429597</td>\n",
       "      <td>2.841944</td>\n",
       "      <td>17.266286</td>\n",
       "      <td>19.678245</td>\n",
       "      <td>8.001314</td>\n",
       "      <td>...</td>\n",
       "      <td>2.785345</td>\n",
       "      <td>8.097518</td>\n",
       "      <td>8.186778</td>\n",
       "      <td>12.091518</td>\n",
       "      <td>36.484348</td>\n",
       "      <td>1.490918</td>\n",
       "      <td>14.759458</td>\n",
       "      <td>26.431623</td>\n",
       "      <td>32.429663</td>\n",
       "      <td>26.764350</td>\n",
       "    </tr>\n",
       "    <tr>\n",
       "      <th>7559</th>\n",
       "      <td>36.540185</td>\n",
       "      <td>5.938099</td>\n",
       "      <td>14.005681</td>\n",
       "      <td>34.336462</td>\n",
       "      <td>3.165406</td>\n",
       "      <td>10.444326</td>\n",
       "      <td>2.865700</td>\n",
       "      <td>17.208385</td>\n",
       "      <td>19.645068</td>\n",
       "      <td>8.005554</td>\n",
       "      <td>...</td>\n",
       "      <td>2.737301</td>\n",
       "      <td>8.131341</td>\n",
       "      <td>8.313863</td>\n",
       "      <td>12.008124</td>\n",
       "      <td>35.793992</td>\n",
       "      <td>1.501222</td>\n",
       "      <td>14.702003</td>\n",
       "      <td>25.916519</td>\n",
       "      <td>32.782534</td>\n",
       "      <td>26.704049</td>\n",
       "    </tr>\n",
       "    <tr>\n",
       "      <th>7560</th>\n",
       "      <td>36.348941</td>\n",
       "      <td>5.904206</td>\n",
       "      <td>13.989280</td>\n",
       "      <td>34.134184</td>\n",
       "      <td>3.189125</td>\n",
       "      <td>10.274165</td>\n",
       "      <td>2.880031</td>\n",
       "      <td>17.072863</td>\n",
       "      <td>19.740876</td>\n",
       "      <td>8.043028</td>\n",
       "      <td>...</td>\n",
       "      <td>2.758488</td>\n",
       "      <td>8.059001</td>\n",
       "      <td>8.263685</td>\n",
       "      <td>12.032501</td>\n",
       "      <td>35.816780</td>\n",
       "      <td>1.468127</td>\n",
       "      <td>14.685982</td>\n",
       "      <td>25.556561</td>\n",
       "      <td>32.884133</td>\n",
       "      <td>26.375100</td>\n",
       "    </tr>\n",
       "  </tbody>\n",
       "</table>\n",
       "<p>7561 rows × 500 columns</p>\n",
       "</div>"
      ],
      "text/plain": [
       "            0         1          2          3         4          5    \\\n",
       "0      1.000000  1.000000   1.000000   1.000000  1.000000   1.000000   \n",
       "1      0.985520  0.998259   0.991609   0.995978  0.993785   1.002313   \n",
       "2      0.975521  0.991794   1.002839   1.005546  0.997561   1.006409   \n",
       "3      0.986305  0.992674   1.001116   1.021150  0.996725   0.985922   \n",
       "4      0.969900  0.979911   0.993561   1.012584  0.989819   1.000412   \n",
       "...         ...       ...        ...        ...       ...        ...   \n",
       "7556  36.856568  5.946025  14.178646  34.158745  3.191374  10.276299   \n",
       "7557  36.973948  5.946306  13.975940  34.100985  3.156703  10.300544   \n",
       "7558  36.845504  5.999503  14.004222  34.724567  3.174588  10.429597   \n",
       "7559  36.540185  5.938099  14.005681  34.336462  3.165406  10.444326   \n",
       "7560  36.348941  5.904206  13.989280  34.134184  3.189125  10.274165   \n",
       "\n",
       "           6          7          8         9    ...       490       491  \\\n",
       "0     1.000000   1.000000   1.000000  1.000000  ...  1.000000  1.000000   \n",
       "1     0.997268   1.007422   0.993933  1.003894  ...  1.005886  1.013516   \n",
       "2     0.987405   1.011809   0.998080  1.015854  ...  1.013561  1.013663   \n",
       "3     0.980872   1.021776   1.016220  1.004341  ...  0.998941  1.030375   \n",
       "4     1.001935   1.039500   1.021759  0.994810  ...  1.010939  1.030529   \n",
       "...        ...        ...        ...       ...  ...       ...       ...   \n",
       "7556  2.905257  17.499158  19.533824  7.886413  ...  2.746466  8.112955   \n",
       "7557  2.885480  17.279054  19.354244  7.906658  ...  2.759617  8.205271   \n",
       "7558  2.841944  17.266286  19.678245  8.001314  ...  2.785345  8.097518   \n",
       "7559  2.865700  17.208385  19.645068  8.005554  ...  2.737301  8.131341   \n",
       "7560  2.880031  17.072863  19.740876  8.043028  ...  2.758488  8.059001   \n",
       "\n",
       "           492        493        494       495        496        497  \\\n",
       "0     1.000000   1.000000   1.000000  1.000000   1.000000   1.000000   \n",
       "1     0.984903   1.002935   0.996269  1.003975   1.014205   1.010962   \n",
       "2     0.992993   0.993750   0.993259  1.012196   1.025491   1.000964   \n",
       "3     0.986486   0.996706   0.998611  0.998508   1.021024   0.999879   \n",
       "4     0.976755   0.992330   1.009406  0.994578   1.022121   1.000235   \n",
       "...        ...        ...        ...       ...        ...        ...   \n",
       "7556  8.297158  12.225107  36.495661  1.490267  14.473789  26.410500   \n",
       "7557  8.217688  12.201925  36.461984  1.500681  14.686425  26.170526   \n",
       "7558  8.186778  12.091518  36.484348  1.490918  14.759458  26.431623   \n",
       "7559  8.313863  12.008124  35.793992  1.501222  14.702003  25.916519   \n",
       "7560  8.263685  12.032501  35.816780  1.468127  14.685982  25.556561   \n",
       "\n",
       "            498        499  \n",
       "0      1.000000   1.000000  \n",
       "1      1.003018   0.987036  \n",
       "2      1.009987   0.989416  \n",
       "3      1.015872   0.985266  \n",
       "4      1.028722   0.968539  \n",
       "...         ...        ...  \n",
       "7556  32.221558  26.653317  \n",
       "7557  32.370956  26.379809  \n",
       "7558  32.429663  26.764350  \n",
       "7559  32.782534  26.704049  \n",
       "7560  32.884133  26.375100  \n",
       "\n",
       "[7561 rows x 500 columns]"
      ]
     },
     "execution_count": 64,
     "metadata": {},
     "output_type": "execute_result"
    }
   ],
   "source": [
    "# Run the Monte Carlo simulation to forecast 30 years cumulative returns\n",
    "# YOUR CODE HERE\n",
    "thirty_year_simulation.calc_cumulative_return()"
   ]
  },
  {
   "cell_type": "code",
   "execution_count": 65,
   "metadata": {},
   "outputs": [
    {
     "data": {
      "text/plain": [
       "<AxesSubplot:title={'center':'500 Simulations of Cumulative Portfolio Return Trajectories Over the Next 7560 Trading Days.'}>"
      ]
     },
     "execution_count": 65,
     "metadata": {},
     "output_type": "execute_result"
    },
    {
     "data": {
      "image/png": "[encoded data removed]",
      "text/plain": [
       "<Figure size 432x288 with 1 Axes>"
      ]
     },
     "metadata": {
      "needs_background": "light"
     },
     "output_type": "display_data"
    }
   ],
   "source": [
    "# Visualize the 30-year Monte Carlo simulation by creating an\n",
    "# overlay line plot\n",
    "thirty_year_simulation.plot_simulation()\n"
   ]
  },
  {
   "cell_type": "markdown",
   "metadata": {},
   "source": [
    "#### Step 3: Plot the probability distribution of the Monte Carlo simulation."
   ]
  },
  {
   "cell_type": "code",
   "execution_count": 66,
   "metadata": {},
   "outputs": [
    {
     "data": {
      "text/plain": [
       "<AxesSubplot:title={'center':'Distribution of Final Cumuluative Returns Across All 500 Simulations'}, ylabel='Frequency'>"
      ]
     },
     "execution_count": 66,
     "metadata": {},
     "output_type": "execute_result"
    },
    {
     "data": {
      "image/png": "[encoded data removed]",
      "text/plain": [
       "<Figure size 432x288 with 1 Axes>"
      ]
     },
     "metadata": {
      "needs_background": "light"
     },
     "output_type": "display_data"
    }
   ],
   "source": [
    "# Visualize the probability distribution of the 30-year Monte Carlo simulation \n",
    "# thirty_year_simulationlotting a histogram\n",
    "# YOUR CODE HERE\n",
    "thirty_year_simulation.plot_distribution()"
   ]
  },
  {
   "cell_type": "markdown",
   "metadata": {},
   "source": [
    "#### Step 4: Generate the summary statistics for the Monte Carlo simulation."
   ]
  },
  {
   "cell_type": "code",
   "execution_count": 67,
   "metadata": {},
   "outputs": [
    {
     "name": "stdout",
     "output_type": "stream",
     "text": [
      "count           500.000000\n",
      "mean             13.648593\n",
      "std              11.413920\n",
      "min               0.745703\n",
      "25%               6.226100\n",
      "50%              10.571534\n",
      "75%              17.205292\n",
      "max              97.949259\n",
      "95% CI Lower      2.251085\n",
      "95% CI Upper     42.658643\n",
      "Name: 7560, dtype: float64\n"
     ]
    }
   ],
   "source": [
    "# Generate summary statistics from the 30-year Monte Carlo simulation results\n",
    "# Save the results as a variable\n",
    "thirty_year_simulation_statistics = thirty_year_simulation.summarize_cumulative_return()\n",
    "\n",
    "\n",
    "# Review the 30-year Monte Carlo summary statistics\n",
    "print(thirty_year_simulation_statistics)"
   ]
  },
  {
   "cell_type": "markdown",
   "metadata": {},
   "source": [
    "### Analyze the Retirement Portfolio Forecasts\n",
    "\n",
    "Using the current value of only the stock and bond portion of the member's portfolio and the summary statistics that you generated from the Monte Carlo simulation, answer the following question in your Jupyter notebook:\n",
    "\n",
    "-  What are the lower and upper bounds for the expected value of the portfolio with a 95% confidence interval?\n"
   ]
  },
  {
   "cell_type": "code",
   "execution_count": 68,
   "metadata": {},
   "outputs": [
    {
     "name": "stdout",
     "output_type": "stream",
     "text": [
      "74204.30\n"
     ]
    }
   ],
   "source": [
    "# Print the current balance of the stock and bond portion of the members portfolio\n",
    "print(f\"{(total_stocks_bonds):0.2f}\")\n"
   ]
  },
  {
   "cell_type": "code",
   "execution_count": 69,
   "metadata": {},
   "outputs": [
    {
     "name": "stdout",
     "output_type": "stream",
     "text": [
      "167040.2\n",
      "3165454.76\n"
     ]
    }
   ],
   "source": [
    "# Use the lower and upper `95%` confidence intervals to calculate the range of the possible outcomes for the current stock/bond portfolio\n",
    "ci_lower_thirty_cumulative_return = round(thirty_year_simulation_statistics[8]*74204.30, 2)\n",
    "ci_upper_thirty_cumulative_return = round(thirty_year_simulation_statistics[9]*74204.30, 2)\n",
    "\n",
    "# Print the result of your calculations\n",
    "# YOUR CODE HERE\n",
    "print(ci_lower_thirty_cumulative_return)\n",
    "print(ci_upper_thirty_cumulative_return)\n"
   ]
  },
  {
   "cell_type": "markdown",
   "metadata": {},
   "source": [
    "### Forecast Cumulative Returns in 10 Years\n",
    "\n",
    "The CTO of the credit union is impressed with your work on these planning tools but wonders if 30 years is a long time to wait until retirement. So, your next task is to adjust the retirement portfolio and run a new Monte Carlo simulation to find out if the changes will allow members to retire earlier.\n",
    "\n",
    "For this new Monte Carlo simulation, do the following: \n",
    "\n",
    "- Forecast the cumulative returns for 10 years from now. Because of the shortened investment horizon (30 years to 10 years), the portfolio needs to invest more heavily in the riskier asset&mdash;that is, stock&mdash;to help accumulate wealth for retirement. \n",
    "\n",
    "- Adjust the weights of the retirement portfolio so that the composition for the Monte Carlo simulation consists of 20% bonds and 80% stocks. \n",
    "\n",
    "- Run the simulation over 500 samples, and use the same data that the API call to Alpaca generated.\n",
    "\n",
    "- Based on the new Monte Carlo simulation, answer the following questions in your Jupyter notebook:\n",
    "\n",
    "    - Using the current value of only the stock and bond portion of the member's portfolio and the summary statistics that you generated from the new Monte Carlo simulation, what are the lower and upper bounds for the expected value of the portfolio (with the new weights) with a 95% confidence interval?\n",
    "\n",
    "    - Will weighting the portfolio more heavily toward stocks allow the credit union members to retire after only 10 years?\n"
   ]
  },
  {
   "cell_type": "code",
   "execution_count": 70,
   "metadata": {},
   "outputs": [
    {
     "data": {
      "text/html": [
       "<div>\n",
       "<style scoped>\n",
       "    .dataframe tbody tr th:only-of-type {\n",
       "        vertical-align: middle;\n",
       "    }\n",
       "\n",
       "    .dataframe tbody tr th {\n",
       "        vertical-align: top;\n",
       "    }\n",
       "\n",
       "    .dataframe thead tr th {\n",
       "        text-align: left;\n",
       "    }\n",
       "</style>\n",
       "<table border=\"1\" class=\"dataframe\">\n",
       "  <thead>\n",
       "    <tr>\n",
       "      <th></th>\n",
       "      <th colspan=\"6\" halign=\"left\">AGG</th>\n",
       "      <th colspan=\"6\" halign=\"left\">SPY</th>\n",
       "    </tr>\n",
       "    <tr>\n",
       "      <th></th>\n",
       "      <th>open</th>\n",
       "      <th>high</th>\n",
       "      <th>low</th>\n",
       "      <th>close</th>\n",
       "      <th>volume</th>\n",
       "      <th>daily_return</th>\n",
       "      <th>open</th>\n",
       "      <th>high</th>\n",
       "      <th>low</th>\n",
       "      <th>close</th>\n",
       "      <th>volume</th>\n",
       "      <th>daily_return</th>\n",
       "    </tr>\n",
       "  </thead>\n",
       "  <tbody>\n",
       "    <tr>\n",
       "      <th>2017-11-02</th>\n",
       "      <td>109.35</td>\n",
       "      <td>109.495</td>\n",
       "      <td>109.331</td>\n",
       "      <td>109.36</td>\n",
       "      <td>1870711.0</td>\n",
       "      <td>0.000640</td>\n",
       "      <td>257.41</td>\n",
       "      <td>257.75</td>\n",
       "      <td>256.19</td>\n",
       "      <td>257.61</td>\n",
       "      <td>42432046</td>\n",
       "      <td>0.000388</td>\n",
       "    </tr>\n",
       "    <tr>\n",
       "      <th>2017-11-03</th>\n",
       "      <td>109.48</td>\n",
       "      <td>109.480</td>\n",
       "      <td>109.290</td>\n",
       "      <td>109.46</td>\n",
       "      <td>1511462.0</td>\n",
       "      <td>0.000914</td>\n",
       "      <td>257.78</td>\n",
       "      <td>258.50</td>\n",
       "      <td>257.30</td>\n",
       "      <td>258.44</td>\n",
       "      <td>38008582</td>\n",
       "      <td>0.003222</td>\n",
       "    </tr>\n",
       "    <tr>\n",
       "      <th>2017-11-06</th>\n",
       "      <td>109.56</td>\n",
       "      <td>109.590</td>\n",
       "      <td>109.460</td>\n",
       "      <td>109.54</td>\n",
       "      <td>1120425.0</td>\n",
       "      <td>0.000731</td>\n",
       "      <td>258.29</td>\n",
       "      <td>259.00</td>\n",
       "      <td>258.22</td>\n",
       "      <td>258.82</td>\n",
       "      <td>22683758</td>\n",
       "      <td>0.001470</td>\n",
       "    </tr>\n",
       "    <tr>\n",
       "      <th>2017-11-07</th>\n",
       "      <td>109.58</td>\n",
       "      <td>109.610</td>\n",
       "      <td>109.490</td>\n",
       "      <td>109.57</td>\n",
       "      <td>1617243.0</td>\n",
       "      <td>0.000274</td>\n",
       "      <td>258.97</td>\n",
       "      <td>259.35</td>\n",
       "      <td>258.09</td>\n",
       "      <td>258.70</td>\n",
       "      <td>40140309</td>\n",
       "      <td>-0.000464</td>\n",
       "    </tr>\n",
       "  </tbody>\n",
       "</table>\n",
       "</div>"
      ],
      "text/plain": [
       "               AGG                                                       SPY  \\\n",
       "              open     high      low   close     volume daily_return    open   \n",
       "2017-11-02  109.35  109.495  109.331  109.36  1870711.0     0.000640  257.41   \n",
       "2017-11-03  109.48  109.480  109.290  109.46  1511462.0     0.000914  257.78   \n",
       "2017-11-06  109.56  109.590  109.460  109.54  1120425.0     0.000731  258.29   \n",
       "2017-11-07  109.58  109.610  109.490  109.57  1617243.0     0.000274  258.97   \n",
       "\n",
       "                                                           \n",
       "              high     low   close    volume daily_return  \n",
       "2017-11-02  257.75  256.19  257.61  42432046     0.000388  \n",
       "2017-11-03  258.50  257.30  258.44  38008582     0.003222  \n",
       "2017-11-06  259.00  258.22  258.82  22683758     0.001470  \n",
       "2017-11-07  259.35  258.09  258.70  40140309    -0.000464  "
      ]
     },
     "metadata": {},
     "output_type": "display_data"
    },
    {
     "data": {
      "text/html": [
       "<div>\n",
       "<style scoped>\n",
       "    .dataframe tbody tr th:only-of-type {\n",
       "        vertical-align: middle;\n",
       "    }\n",
       "\n",
       "    .dataframe tbody tr th {\n",
       "        vertical-align: top;\n",
       "    }\n",
       "\n",
       "    .dataframe thead tr th {\n",
       "        text-align: left;\n",
       "    }\n",
       "</style>\n",
       "<table border=\"1\" class=\"dataframe\">\n",
       "  <thead>\n",
       "    <tr>\n",
       "      <th></th>\n",
       "      <th colspan=\"6\" halign=\"left\">AGG</th>\n",
       "      <th colspan=\"6\" halign=\"left\">SPY</th>\n",
       "    </tr>\n",
       "    <tr>\n",
       "      <th></th>\n",
       "      <th>open</th>\n",
       "      <th>high</th>\n",
       "      <th>low</th>\n",
       "      <th>close</th>\n",
       "      <th>volume</th>\n",
       "      <th>daily_return</th>\n",
       "      <th>open</th>\n",
       "      <th>high</th>\n",
       "      <th>low</th>\n",
       "      <th>close</th>\n",
       "      <th>volume</th>\n",
       "      <th>daily_return</th>\n",
       "    </tr>\n",
       "  </thead>\n",
       "  <tbody>\n",
       "    <tr>\n",
       "      <th>2020-11-04</th>\n",
       "      <td>117.90</td>\n",
       "      <td>118.04</td>\n",
       "      <td>117.8300</td>\n",
       "      <td>117.925</td>\n",
       "      <td>4510329.0</td>\n",
       "      <td>0.006615</td>\n",
       "      <td>340.86</td>\n",
       "      <td>347.94</td>\n",
       "      <td>339.59</td>\n",
       "      <td>343.495</td>\n",
       "      <td>101560371</td>\n",
       "      <td>0.022398</td>\n",
       "    </tr>\n",
       "    <tr>\n",
       "      <th>2020-11-05</th>\n",
       "      <td>118.09</td>\n",
       "      <td>118.12</td>\n",
       "      <td>117.9100</td>\n",
       "      <td>118.060</td>\n",
       "      <td>4729082.0</td>\n",
       "      <td>0.001145</td>\n",
       "      <td>349.25</td>\n",
       "      <td>352.19</td>\n",
       "      <td>348.86</td>\n",
       "      <td>350.210</td>\n",
       "      <td>67420157</td>\n",
       "      <td>0.019549</td>\n",
       "    </tr>\n",
       "    <tr>\n",
       "      <th>2020-11-06</th>\n",
       "      <td>117.81</td>\n",
       "      <td>117.86</td>\n",
       "      <td>117.6699</td>\n",
       "      <td>117.800</td>\n",
       "      <td>5106146.0</td>\n",
       "      <td>-0.002202</td>\n",
       "      <td>349.93</td>\n",
       "      <td>351.51</td>\n",
       "      <td>347.65</td>\n",
       "      <td>350.190</td>\n",
       "      <td>58137413</td>\n",
       "      <td>-0.000057</td>\n",
       "    </tr>\n",
       "    <tr>\n",
       "      <th>2020-11-09</th>\n",
       "      <td>117.40</td>\n",
       "      <td>117.47</td>\n",
       "      <td>117.0600</td>\n",
       "      <td>117.240</td>\n",
       "      <td>6073474.0</td>\n",
       "      <td>-0.004754</td>\n",
       "      <td>363.97</td>\n",
       "      <td>364.38</td>\n",
       "      <td>354.06</td>\n",
       "      <td>354.540</td>\n",
       "      <td>140613847</td>\n",
       "      <td>0.012422</td>\n",
       "    </tr>\n",
       "    <tr>\n",
       "      <th>2020-11-10</th>\n",
       "      <td>117.05</td>\n",
       "      <td>117.23</td>\n",
       "      <td>117.0300</td>\n",
       "      <td>117.050</td>\n",
       "      <td>4663301.0</td>\n",
       "      <td>-0.001621</td>\n",
       "      <td>353.49</td>\n",
       "      <td>355.18</td>\n",
       "      <td>350.51</td>\n",
       "      <td>354.070</td>\n",
       "      <td>69143380</td>\n",
       "      <td>-0.001326</td>\n",
       "    </tr>\n",
       "  </tbody>\n",
       "</table>\n",
       "</div>"
      ],
      "text/plain": [
       "               AGG                                                        SPY  \\\n",
       "              open    high       low    close     volume daily_return    open   \n",
       "2020-11-04  117.90  118.04  117.8300  117.925  4510329.0     0.006615  340.86   \n",
       "2020-11-05  118.09  118.12  117.9100  118.060  4729082.0     0.001145  349.25   \n",
       "2020-11-06  117.81  117.86  117.6699  117.800  5106146.0    -0.002202  349.93   \n",
       "2020-11-09  117.40  117.47  117.0600  117.240  6073474.0    -0.004754  363.97   \n",
       "2020-11-10  117.05  117.23  117.0300  117.050  4663301.0    -0.001621  353.49   \n",
       "\n",
       "                                                             \n",
       "              high     low    close     volume daily_return  \n",
       "2020-11-04  347.94  339.59  343.495  101560371     0.022398  \n",
       "2020-11-05  352.19  348.86  350.210   67420157     0.019549  \n",
       "2020-11-06  351.51  347.65  350.190   58137413    -0.000057  \n",
       "2020-11-09  364.38  354.06  354.540  140613847     0.012422  \n",
       "2020-11-10  355.18  350.51  354.070   69143380    -0.001326  "
      ]
     },
     "metadata": {},
     "output_type": "display_data"
    }
   ],
   "source": [
    "# Configure a Monte Carlo simulation to forecast 10 years cumulative returns\n",
    "# The weights should be split 20% to AGG and 80% to SPY.\n",
    "# Run 500 samples.\n",
    "ten_year_simulation = MCSimulation(\n",
    "    portfolio_data=df_portfolio_analysis,\n",
    "    weights=[0.20, 0.80],\n",
    "    num_simulation=500,\n",
    "    num_trading_days=252*10,\n",
    ")\n",
    "\n",
    "# Review the simulation input data\n",
    "# YOUR CODE HERE\n",
    "display(ten_year_simulation.portfolio_data.head().dropna())\n",
    "display(ten_year_simulation.portfolio_data.tail().dropna())\n"
   ]
  },
  {
   "cell_type": "code",
   "execution_count": 71,
   "metadata": {},
   "outputs": [
    {
     "name": "stdout",
     "output_type": "stream",
     "text": [
      "Running Monte Carlo simulation number 0.\n",
      "Running Monte Carlo simulation number 10.\n",
      "Running Monte Carlo simulation number 20.\n",
      "Running Monte Carlo simulation number 30.\n",
      "Running Monte Carlo simulation number 40.\n",
      "Running Monte Carlo simulation number 50.\n",
      "Running Monte Carlo simulation number 60.\n",
      "Running Monte Carlo simulation number 70.\n",
      "Running Monte Carlo simulation number 80.\n",
      "Running Monte Carlo simulation number 90.\n",
      "Running Monte Carlo simulation number 100.\n",
      "Running Monte Carlo simulation number 110.\n",
      "Running Monte Carlo simulation number 120.\n",
      "Running Monte Carlo simulation number 130.\n",
      "Running Monte Carlo simulation number 140.\n",
      "Running Monte Carlo simulation number 150.\n",
      "Running Monte Carlo simulation number 160.\n",
      "Running Monte Carlo simulation number 170.\n",
      "Running Monte Carlo simulation number 180.\n",
      "Running Monte Carlo simulation number 190.\n",
      "Running Monte Carlo simulation number 200.\n",
      "Running Monte Carlo simulation number 210.\n",
      "Running Monte Carlo simulation number 220.\n",
      "Running Monte Carlo simulation number 230.\n",
      "Running Monte Carlo simulation number 240.\n",
      "Running Monte Carlo simulation number 250.\n",
      "Running Monte Carlo simulation number 260.\n",
      "Running Monte Carlo simulation number 270.\n",
      "Running Monte Carlo simulation number 280.\n",
      "Running Monte Carlo simulation number 290.\n",
      "Running Monte Carlo simulation number 300.\n",
      "Running Monte Carlo simulation number 310.\n",
      "Running Monte Carlo simulation number 320.\n",
      "Running Monte Carlo simulation number 330.\n",
      "Running Monte Carlo simulation number 340.\n",
      "Running Monte Carlo simulation number 350.\n",
      "Running Monte Carlo simulation number 360.\n",
      "Running Monte Carlo simulation number 370.\n",
      "Running Monte Carlo simulation number 380.\n",
      "Running Monte Carlo simulation number 390.\n",
      "Running Monte Carlo simulation number 400.\n",
      "Running Monte Carlo simulation number 410.\n",
      "Running Monte Carlo simulation number 420.\n",
      "Running Monte Carlo simulation number 430.\n",
      "Running Monte Carlo simulation number 440.\n",
      "Running Monte Carlo simulation number 450.\n",
      "Running Monte Carlo simulation number 460.\n",
      "Running Monte Carlo simulation number 470.\n",
      "Running Monte Carlo simulation number 480.\n",
      "Running Monte Carlo simulation number 490.\n"
     ]
    },
    {
     "data": {
      "text/html": [
       "<div>\n",
       "<style scoped>\n",
       "    .dataframe tbody tr th:only-of-type {\n",
       "        vertical-align: middle;\n",
       "    }\n",
       "\n",
       "    .dataframe tbody tr th {\n",
       "        vertical-align: top;\n",
       "    }\n",
       "\n",
       "    .dataframe thead th {\n",
       "        text-align: right;\n",
       "    }\n",
       "</style>\n",
       "<table border=\"1\" class=\"dataframe\">\n",
       "  <thead>\n",
       "    <tr style=\"text-align: right;\">\n",
       "      <th></th>\n",
       "      <th>0</th>\n",
       "      <th>1</th>\n",
       "      <th>2</th>\n",
       "      <th>3</th>\n",
       "      <th>4</th>\n",
       "      <th>5</th>\n",
       "      <th>6</th>\n",
       "      <th>7</th>\n",
       "      <th>8</th>\n",
       "      <th>9</th>\n",
       "      <th>...</th>\n",
       "      <th>490</th>\n",
       "      <th>491</th>\n",
       "      <th>492</th>\n",
       "      <th>493</th>\n",
       "      <th>494</th>\n",
       "      <th>495</th>\n",
       "      <th>496</th>\n",
       "      <th>497</th>\n",
       "      <th>498</th>\n",
       "      <th>499</th>\n",
       "    </tr>\n",
       "  </thead>\n",
       "  <tbody>\n",
       "    <tr>\n",
       "      <th>0</th>\n",
       "      <td>1.000000</td>\n",
       "      <td>1.000000</td>\n",
       "      <td>1.000000</td>\n",
       "      <td>1.000000</td>\n",
       "      <td>1.000000</td>\n",
       "      <td>1.000000</td>\n",
       "      <td>1.000000</td>\n",
       "      <td>1.000000</td>\n",
       "      <td>1.000000</td>\n",
       "      <td>1.000000</td>\n",
       "      <td>...</td>\n",
       "      <td>1.000000</td>\n",
       "      <td>1.000000</td>\n",
       "      <td>1.000000</td>\n",
       "      <td>1.000000</td>\n",
       "      <td>1.000000</td>\n",
       "      <td>1.000000</td>\n",
       "      <td>1.000000</td>\n",
       "      <td>1.000000</td>\n",
       "      <td>1.000000</td>\n",
       "      <td>1.000000</td>\n",
       "    </tr>\n",
       "    <tr>\n",
       "      <th>1</th>\n",
       "      <td>1.000048</td>\n",
       "      <td>1.012360</td>\n",
       "      <td>1.008344</td>\n",
       "      <td>0.984461</td>\n",
       "      <td>0.990872</td>\n",
       "      <td>1.001193</td>\n",
       "      <td>0.983186</td>\n",
       "      <td>1.008427</td>\n",
       "      <td>1.016788</td>\n",
       "      <td>1.009516</td>\n",
       "      <td>...</td>\n",
       "      <td>1.010939</td>\n",
       "      <td>0.985721</td>\n",
       "      <td>1.001840</td>\n",
       "      <td>0.980344</td>\n",
       "      <td>0.997416</td>\n",
       "      <td>0.987187</td>\n",
       "      <td>1.002387</td>\n",
       "      <td>1.012526</td>\n",
       "      <td>1.008354</td>\n",
       "      <td>0.987988</td>\n",
       "    </tr>\n",
       "    <tr>\n",
       "      <th>2</th>\n",
       "      <td>1.007826</td>\n",
       "      <td>1.015576</td>\n",
       "      <td>0.993207</td>\n",
       "      <td>0.984138</td>\n",
       "      <td>1.001196</td>\n",
       "      <td>1.011451</td>\n",
       "      <td>0.988757</td>\n",
       "      <td>0.996946</td>\n",
       "      <td>1.018720</td>\n",
       "      <td>1.017792</td>\n",
       "      <td>...</td>\n",
       "      <td>0.999696</td>\n",
       "      <td>0.968889</td>\n",
       "      <td>0.997491</td>\n",
       "      <td>0.985195</td>\n",
       "      <td>0.997345</td>\n",
       "      <td>1.007759</td>\n",
       "      <td>0.984188</td>\n",
       "      <td>1.019155</td>\n",
       "      <td>1.007427</td>\n",
       "      <td>0.988499</td>\n",
       "    </tr>\n",
       "    <tr>\n",
       "      <th>3</th>\n",
       "      <td>0.999931</td>\n",
       "      <td>1.023279</td>\n",
       "      <td>0.994983</td>\n",
       "      <td>0.992528</td>\n",
       "      <td>0.992363</td>\n",
       "      <td>1.024813</td>\n",
       "      <td>1.009684</td>\n",
       "      <td>0.995592</td>\n",
       "      <td>1.024838</td>\n",
       "      <td>1.017844</td>\n",
       "      <td>...</td>\n",
       "      <td>0.997953</td>\n",
       "      <td>0.958715</td>\n",
       "      <td>0.996374</td>\n",
       "      <td>0.998580</td>\n",
       "      <td>1.003242</td>\n",
       "      <td>1.022163</td>\n",
       "      <td>0.995017</td>\n",
       "      <td>1.037667</td>\n",
       "      <td>1.014667</td>\n",
       "      <td>0.975350</td>\n",
       "    </tr>\n",
       "    <tr>\n",
       "      <th>4</th>\n",
       "      <td>0.989825</td>\n",
       "      <td>1.018824</td>\n",
       "      <td>0.975463</td>\n",
       "      <td>1.003017</td>\n",
       "      <td>1.017768</td>\n",
       "      <td>1.007765</td>\n",
       "      <td>0.998646</td>\n",
       "      <td>0.991274</td>\n",
       "      <td>1.042249</td>\n",
       "      <td>1.029412</td>\n",
       "      <td>...</td>\n",
       "      <td>1.006183</td>\n",
       "      <td>0.950972</td>\n",
       "      <td>1.003800</td>\n",
       "      <td>0.996105</td>\n",
       "      <td>1.006982</td>\n",
       "      <td>1.003062</td>\n",
       "      <td>0.990098</td>\n",
       "      <td>1.032284</td>\n",
       "      <td>1.005723</td>\n",
       "      <td>0.970880</td>\n",
       "    </tr>\n",
       "    <tr>\n",
       "      <th>...</th>\n",
       "      <td>...</td>\n",
       "      <td>...</td>\n",
       "      <td>...</td>\n",
       "      <td>...</td>\n",
       "      <td>...</td>\n",
       "      <td>...</td>\n",
       "      <td>...</td>\n",
       "      <td>...</td>\n",
       "      <td>...</td>\n",
       "      <td>...</td>\n",
       "      <td>...</td>\n",
       "      <td>...</td>\n",
       "      <td>...</td>\n",
       "      <td>...</td>\n",
       "      <td>...</td>\n",
       "      <td>...</td>\n",
       "      <td>...</td>\n",
       "      <td>...</td>\n",
       "      <td>...</td>\n",
       "      <td>...</td>\n",
       "      <td>...</td>\n",
       "    </tr>\n",
       "    <tr>\n",
       "      <th>2516</th>\n",
       "      <td>1.511176</td>\n",
       "      <td>4.604544</td>\n",
       "      <td>4.408059</td>\n",
       "      <td>3.452509</td>\n",
       "      <td>3.343684</td>\n",
       "      <td>2.275806</td>\n",
       "      <td>1.211147</td>\n",
       "      <td>2.384248</td>\n",
       "      <td>3.098511</td>\n",
       "      <td>2.221381</td>\n",
       "      <td>...</td>\n",
       "      <td>5.707490</td>\n",
       "      <td>2.368883</td>\n",
       "      <td>3.707474</td>\n",
       "      <td>2.306637</td>\n",
       "      <td>3.516631</td>\n",
       "      <td>1.645705</td>\n",
       "      <td>2.651988</td>\n",
       "      <td>2.054259</td>\n",
       "      <td>1.627279</td>\n",
       "      <td>1.545016</td>\n",
       "    </tr>\n",
       "    <tr>\n",
       "      <th>2517</th>\n",
       "      <td>1.496789</td>\n",
       "      <td>4.536007</td>\n",
       "      <td>4.409375</td>\n",
       "      <td>3.398962</td>\n",
       "      <td>3.296492</td>\n",
       "      <td>2.207310</td>\n",
       "      <td>1.223862</td>\n",
       "      <td>2.389161</td>\n",
       "      <td>3.028082</td>\n",
       "      <td>2.202770</td>\n",
       "      <td>...</td>\n",
       "      <td>5.657845</td>\n",
       "      <td>2.367791</td>\n",
       "      <td>3.727834</td>\n",
       "      <td>2.352267</td>\n",
       "      <td>3.602238</td>\n",
       "      <td>1.681558</td>\n",
       "      <td>2.662622</td>\n",
       "      <td>2.081603</td>\n",
       "      <td>1.653855</td>\n",
       "      <td>1.540204</td>\n",
       "    </tr>\n",
       "    <tr>\n",
       "      <th>2518</th>\n",
       "      <td>1.495003</td>\n",
       "      <td>4.510624</td>\n",
       "      <td>4.369803</td>\n",
       "      <td>3.357605</td>\n",
       "      <td>3.305453</td>\n",
       "      <td>2.223674</td>\n",
       "      <td>1.240221</td>\n",
       "      <td>2.434885</td>\n",
       "      <td>3.015955</td>\n",
       "      <td>2.243318</td>\n",
       "      <td>...</td>\n",
       "      <td>5.640833</td>\n",
       "      <td>2.328415</td>\n",
       "      <td>3.696899</td>\n",
       "      <td>2.350450</td>\n",
       "      <td>3.670793</td>\n",
       "      <td>1.663228</td>\n",
       "      <td>2.678100</td>\n",
       "      <td>2.124647</td>\n",
       "      <td>1.655227</td>\n",
       "      <td>1.565811</td>\n",
       "    </tr>\n",
       "    <tr>\n",
       "      <th>2519</th>\n",
       "      <td>1.503539</td>\n",
       "      <td>4.529533</td>\n",
       "      <td>4.308774</td>\n",
       "      <td>3.350107</td>\n",
       "      <td>3.330041</td>\n",
       "      <td>2.212827</td>\n",
       "      <td>1.248538</td>\n",
       "      <td>2.465977</td>\n",
       "      <td>3.023035</td>\n",
       "      <td>2.229899</td>\n",
       "      <td>...</td>\n",
       "      <td>5.608325</td>\n",
       "      <td>2.323869</td>\n",
       "      <td>3.686371</td>\n",
       "      <td>2.361038</td>\n",
       "      <td>3.710008</td>\n",
       "      <td>1.691869</td>\n",
       "      <td>2.655576</td>\n",
       "      <td>2.102392</td>\n",
       "      <td>1.648607</td>\n",
       "      <td>1.574774</td>\n",
       "    </tr>\n",
       "    <tr>\n",
       "      <th>2520</th>\n",
       "      <td>1.506046</td>\n",
       "      <td>4.573765</td>\n",
       "      <td>4.274085</td>\n",
       "      <td>3.377243</td>\n",
       "      <td>3.349162</td>\n",
       "      <td>2.217146</td>\n",
       "      <td>1.250790</td>\n",
       "      <td>2.469166</td>\n",
       "      <td>3.027701</td>\n",
       "      <td>2.200602</td>\n",
       "      <td>...</td>\n",
       "      <td>5.536800</td>\n",
       "      <td>2.341167</td>\n",
       "      <td>3.697441</td>\n",
       "      <td>2.277383</td>\n",
       "      <td>3.678706</td>\n",
       "      <td>1.730859</td>\n",
       "      <td>2.694662</td>\n",
       "      <td>2.083122</td>\n",
       "      <td>1.643853</td>\n",
       "      <td>1.561136</td>\n",
       "    </tr>\n",
       "  </tbody>\n",
       "</table>\n",
       "<p>2521 rows × 500 columns</p>\n",
       "</div>"
      ],
      "text/plain": [
       "           0         1         2         3         4         5         6    \\\n",
       "0     1.000000  1.000000  1.000000  1.000000  1.000000  1.000000  1.000000   \n",
       "1     1.000048  1.012360  1.008344  0.984461  0.990872  1.001193  0.983186   \n",
       "2     1.007826  1.015576  0.993207  0.984138  1.001196  1.011451  0.988757   \n",
       "3     0.999931  1.023279  0.994983  0.992528  0.992363  1.024813  1.009684   \n",
       "4     0.989825  1.018824  0.975463  1.003017  1.017768  1.007765  0.998646   \n",
       "...        ...       ...       ...       ...       ...       ...       ...   \n",
       "2516  1.511176  4.604544  4.408059  3.452509  3.343684  2.275806  1.211147   \n",
       "2517  1.496789  4.536007  4.409375  3.398962  3.296492  2.207310  1.223862   \n",
       "2518  1.495003  4.510624  4.369803  3.357605  3.305453  2.223674  1.240221   \n",
       "2519  1.503539  4.529533  4.308774  3.350107  3.330041  2.212827  1.248538   \n",
       "2520  1.506046  4.573765  4.274085  3.377243  3.349162  2.217146  1.250790   \n",
       "\n",
       "           7         8         9    ...       490       491       492  \\\n",
       "0     1.000000  1.000000  1.000000  ...  1.000000  1.000000  1.000000   \n",
       "1     1.008427  1.016788  1.009516  ...  1.010939  0.985721  1.001840   \n",
       "2     0.996946  1.018720  1.017792  ...  0.999696  0.968889  0.997491   \n",
       "3     0.995592  1.024838  1.017844  ...  0.997953  0.958715  0.996374   \n",
       "4     0.991274  1.042249  1.029412  ...  1.006183  0.950972  1.003800   \n",
       "...        ...       ...       ...  ...       ...       ...       ...   \n",
       "2516  2.384248  3.098511  2.221381  ...  5.707490  2.368883  3.707474   \n",
       "2517  2.389161  3.028082  2.202770  ...  5.657845  2.367791  3.727834   \n",
       "2518  2.434885  3.015955  2.243318  ...  5.640833  2.328415  3.696899   \n",
       "2519  2.465977  3.023035  2.229899  ...  5.608325  2.323869  3.686371   \n",
       "2520  2.469166  3.027701  2.200602  ...  5.536800  2.341167  3.697441   \n",
       "\n",
       "           493       494       495       496       497       498       499  \n",
       "0     1.000000  1.000000  1.000000  1.000000  1.000000  1.000000  1.000000  \n",
       "1     0.980344  0.997416  0.987187  1.002387  1.012526  1.008354  0.987988  \n",
       "2     0.985195  0.997345  1.007759  0.984188  1.019155  1.007427  0.988499  \n",
       "3     0.998580  1.003242  1.022163  0.995017  1.037667  1.014667  0.975350  \n",
       "4     0.996105  1.006982  1.003062  0.990098  1.032284  1.005723  0.970880  \n",
       "...        ...       ...       ...       ...       ...       ...       ...  \n",
       "2516  2.306637  3.516631  1.645705  2.651988  2.054259  1.627279  1.545016  \n",
       "2517  2.352267  3.602238  1.681558  2.662622  2.081603  1.653855  1.540204  \n",
       "2518  2.350450  3.670793  1.663228  2.678100  2.124647  1.655227  1.565811  \n",
       "2519  2.361038  3.710008  1.691869  2.655576  2.102392  1.648607  1.574774  \n",
       "2520  2.277383  3.678706  1.730859  2.694662  2.083122  1.643853  1.561136  \n",
       "\n",
       "[2521 rows x 500 columns]"
      ]
     },
     "execution_count": 71,
     "metadata": {},
     "output_type": "execute_result"
    }
   ],
   "source": [
    "# Run the Monte Carlo simulation to forecast 10 years cumulative returns\n",
    "# YOUR CODE HERE\n",
    "ten_year_simulation.calc_cumulative_return()"
   ]
  },
  {
   "cell_type": "code",
   "execution_count": 72,
   "metadata": {},
   "outputs": [
    {
     "data": {
      "text/plain": [
       "<AxesSubplot:title={'center':'500 Simulations of Cumulative Portfolio Return Trajectories Over the Next 2520 Trading Days.'}>"
      ]
     },
     "execution_count": 72,
     "metadata": {},
     "output_type": "execute_result"
    },
    {
     "data": {
      "image/png": "[encoded data removed]",
      "text/plain": [
       "<Figure size 432x288 with 1 Axes>"
      ]
     },
     "metadata": {
      "needs_background": "light"
     },
     "output_type": "display_data"
    }
   ],
   "source": [
    "# Visualize the 10-year Monte Carlo simulation by creating an\n",
    "# overlay line plot\n",
    "# YOUR CODE HERE\n",
    "ten_year_simulation.plot_simulation()"
   ]
  },
  {
   "cell_type": "code",
   "execution_count": 73,
   "metadata": {},
   "outputs": [
    {
     "data": {
      "text/plain": [
       "<AxesSubplot:title={'center':'Distribution of Final Cumuluative Returns Across All 500 Simulations'}, ylabel='Frequency'>"
      ]
     },
     "execution_count": 73,
     "metadata": {},
     "output_type": "execute_result"
    },
    {
     "data": {
      "image/png": "[encoded data removed]",
      "text/plain": [
       "<Figure size 432x288 with 1 Axes>"
      ]
     },
     "metadata": {
      "needs_background": "light"
     },
     "output_type": "display_data"
    }
   ],
   "source": [
    "# Visualize the probability distribution of the 10-year Monte Carlo simulation \n",
    "# by plotting a histogram\n",
    "# YOUR CODE HERE\n",
    "ten_year_simulation.plot_distribution()\n"
   ]
  },
  {
   "cell_type": "code",
   "execution_count": 74,
   "metadata": {},
   "outputs": [
    {
     "data": {
      "text/plain": [
       "count           500.000000\n",
       "mean              3.022488\n",
       "std               1.839237\n",
       "min               0.332444\n",
       "25%               1.766889\n",
       "50%               2.520380\n",
       "75%               3.757288\n",
       "max              13.413136\n",
       "95% CI Lower      0.934629\n",
       "95% CI Upper      8.386327\n",
       "Name: 2520, dtype: float64"
      ]
     },
     "execution_count": 74,
     "metadata": {},
     "output_type": "execute_result"
    }
   ],
   "source": [
    "# Generate summary statistics from the 10-year Monte Carlo simulation results\n",
    "# Save the results as a variable\n",
    "ten_year_simulation_statistics = ten_year_simulation.summarize_cumulative_return()\n",
    "\n",
    "\n",
    "# Review the 10-year Monte Carlo summary statistics\n",
    "ten_year_simulation_statistics"
   ]
  },
  {
   "cell_type": "markdown",
   "metadata": {},
   "source": [
    "### Answer the following questions:"
   ]
  },
  {
   "cell_type": "markdown",
   "metadata": {},
   "source": [
    "#### Question: Using the current value of only the stock and bond portion of the member's portfolio and the summary statistics that you generated from the new Monte Carlo simulation, what are the lower and upper bounds for the expected value of the portfolio (with the new weights) with a 95% confidence interval?"
   ]
  },
  {
   "cell_type": "code",
   "execution_count": 75,
   "metadata": {},
   "outputs": [
    {
     "name": "stdout",
     "output_type": "stream",
     "text": [
      "74204.30\n"
     ]
    }
   ],
   "source": [
    "# Print the current balance of the stock and bond portion of the members portfolio\n",
    "print(f\"{(total_stocks_bonds):0.2f}\")\n"
   ]
  },
  {
   "cell_type": "code",
   "execution_count": 79,
   "metadata": {},
   "outputs": [
    {
     "data": {
      "text/plain": [
       "69353.49"
      ]
     },
     "metadata": {},
     "output_type": "display_data"
    },
    {
     "data": {
      "text/plain": [
       "622301.56"
      ]
     },
     "metadata": {},
     "output_type": "display_data"
    }
   ],
   "source": [
    "# Use the lower and upper `95%` confidence intervals to calculate the range of the possible outcomes for the current stock/bond portfolio\n",
    "ci_lower_ten_cumulative_return = round(ten_year_simulation_statistics[8]*74204.30, 2)\n",
    "ci_upper_ten_cumulative_return = round(ten_year_simulation_statistics[9]*74204.30, 2)\n",
    "\n",
    "# Print the result of your calculations\n",
    "display(ci_lower_ten_cumulative_return)\n",
    "display(ci_upper_ten_cumulative_return)\n"
   ]
  },
  {
   "cell_type": "markdown",
   "metadata": {},
   "source": [
    "#### Question: Will weighting the portfolio more heavily to stocks allow the credit union members to retire after only 10 years?"
   ]
  },
  {
   "cell_type": "raw",
   "metadata": {},
   "source": [
    "No. Not according to the lower cumulative return. "
   ]
  },
  {
   "cell_type": "code",
   "execution_count": null,
   "metadata": {},
   "outputs": [],
   "source": []
  }
 ],
 "metadata": {
  "kernelspec": {
   "display_name": "Python 3",
   "language": "python",
   "name": "python3"
  },
  "language_info": {
   "codemirror_mode": {
    "name": "ipython",
    "version": 3
   },
   "file_extension": ".py",
   "mimetype": "text/x-python",
   "name": "python",
   "nbconvert_exporter": "python",
   "pygments_lexer": "ipython3",
   "version": "3.7.10"
  }
 },
 "nbformat": 4,
 "nbformat_minor": 4
}
